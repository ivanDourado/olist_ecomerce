{
 "cells": [
  {
   "cell_type": "markdown",
   "id": "86dd0ceb",
   "metadata": {
    "jp-MarkdownHeadingCollapsed": true
   },
   "source": [
    "\n",
    "# Projeto de Análise de Dados - Olist: \n",
    "\n",
    "Este notebook contém a solução integral do desafio:\n",
    "* Preparação dos dados\n",
    "* Análises SQL & Python\n",
    "* Modelagem preditiva de atraso\n",
    "* Segmentação RFM\n"
   ]
  },
  {
   "cell_type": "markdown",
   "id": "dcc7582f-f3e5-48c0-b79d-fa2bc70e7ee9",
   "metadata": {},
   "source": [
    "# Etapa 1 - Importação e Limpeza de Dados\n",
    "## Objetivo da Etapa 1\n",
    "Nesta primeira etapa do projeto, o objetivo é importar os dados brutos da Olist (fornecidos em múltiplos arquivos CSV dentro de um único arquivo zip) e realizar a limpeza e preparação inicial dos dados. Isso inclui carregar todos os conjuntos de dados, padronizar nomes de colunas e tipos de dados, tratar valores ausentes (por exemplo, datas faltantes ou CEPs sem informação de geolocalização), remover registros duplicados e estabelecer os relacionamentos corretos entre as tabelas (simulando um modelo relacional) utilizando o pandas. Ao final desta etapa, teremos os dados consolidados e prontos para as análises posteriores, com cada conjunto de dados limpo e conectado pelos campos-chave adequados."
   ]
  },
  {
   "cell_type": "markdown",
   "id": "f63f0cb3-f3db-4867-9bcb-6b80c0e404b0",
   "metadata": {},
   "source": [
    "# Resumo dos Dados Disponíveis\n",
    "O dataset da Olist consiste em vários arquivos CSV, cada um representando uma tabela relacional com informações sobre diversos aspectos do comércio eletrônico. A seguir, um resumo dos principais arquivos de dados disponíveis no arquivo olist.zip:\n",
    "* Pedidos (\"orders\") – Informações sobre cada pedido realizado na plataforma (cerca de 100 mil pedidos entre 2016 e 2018). Inclui colunas como ID do pedido, ID do cliente, status do pedido, carimbo de data da compra, datas de aprovação, envio, entrega estimada e entrega real, etc.\n",
    "* Itens do Pedido (\"order_items\") – Detalhes dos itens de cada pedido. Cada linha representa um item vendido em um pedido, incluindo ID do pedido, ID do item, ID do produto, ID do vendedor, preço, frete e data limite de envio para aquele item.\n",
    "* Pagamentos (\"order_payments\") – Informações de pagamento de cada pedido. Pode haver múltiplas linhas por pedido se foram utilizados mais de um método de pagamento. Contém ID do pedido, tipo de pagamento, número de parcelas e valor pago.\n",
    "* Reviews/Avaliações (\"order_reviews\") – Avaliações dos pedidos feitas pelos clientes. Inclui ID do pedido, ID da avaliação, score (nota) de 1 a 5, comentários de revisão, e timestamps de criação e resposta das avaliações.\n",
    "* Clientes (\"customers\") – Dados dos clientes que fizeram pedidos. Inclui ID do cliente (chave para pedidos), um identificador único do cliente (para identificar clientes recorrentes), prefixo de CEP, cidade e estado do cliente.\n",
    "* Vendedores (\"sellers\") – Dados dos vendedores (lojistas) na plataforma. Contém ID do vendedor, prefixo de CEP do vendedor, cidade e estado do vendedor.\n",
    "* Produtos (\"products\") – Informações sobre os produtos vendidos. Inclui ID do produto, nome da categoria do produto (em português) e diversas medidas como peso, dimensões, etc.\n",
    "* Geolocalização (\"geolocation\") – Coordenadas geográficas e localidades associadas a prefixos de CEP. Contém prefixo de CEP, latitude, longitude, cidade e estado correspondentes. Esse conjunto de dados possui múltiplas entradas para alguns prefixos de CEP (várias coordenadas possíveis dentro de um mesmo prefixo).\n",
    "* Tradução de Categorias (\"product_category_name_translation\") – Mapeamento dos nomes de categoria de produto (em português) para inglês, para facilitar a compreensão.\n",
    "\n",
    "\n",
    "Com esses dados, podemos relacionar informações de pedidos, clientes, vendedores, produtos e avaliações. Por exemplo, cada pedido está associado a um cliente e pode ter múltiplos itens, cada item aponta para um produto e um vendedor específicos. As tabelas de geolocalização e tradução de categorias funcionam como tabelas de apoio para obter informações adicionais (coordenadas geográficas e nomes de categorias em inglês, respectivamente)."
   ]
  },
  {
   "cell_type": "markdown",
   "id": "70ae8964-d7d5-4872-8f08-b1bb8f7f5de7",
   "metadata": {},
   "source": [
    "# Importação dos Dados\n",
    "\n",
    "Vamos começar importando as bibliotecas necessárias e extraindo os arquivos CSV do arquivo zip da Olist. Em seguida, carregaremos cada arquivo CSV em um DataFrame pandas, atribuindo nomes de variáveis mais curtos para facilitar o manuseio (por exemplo, orders para olist_orders_dataset.csv, etc.). Também verificaremos, quando necessário, as primeiras linhas de cada DataFrame para confirmar que a carga foi correta."
   ]
  },
  {
   "cell_type": "code",
   "execution_count": 1,
   "id": "56b7aa09-a6d3-48c1-aabb-dee717837a76",
   "metadata": {},
   "outputs": [
    {
     "name": "stdout",
     "output_type": "stream",
     "text": [
      "Dimensões iniciais de cada tabela:\n",
      "orders: (99441, 8)\n",
      "order_items: (112650, 7)\n",
      "order_payments: (103886, 5)\n",
      "order_reviews: (99224, 7)\n",
      "customers: (99441, 5)\n",
      "sellers: (3095, 4)\n",
      "products: (32951, 9)\n",
      "geolocation: (1000163, 5)\n",
      "category_translation: (71, 2)\n"
     ]
    }
   ],
   "source": [
    "# Importa a biblioteca pandas para manipulação de dados\n",
    "import pandas as pd\n",
    "\n",
    "# Importa a biblioteca zipfile para extrair arquivos ZIP\n",
    "import zipfile\n",
    "\n",
    "# Extrai todos os arquivos CSV do arquivo olist.zip para o diretório de trabalho atual\n",
    "with zipfile.ZipFile('olist.zip', 'r') as zip_ref:\n",
    "    zip_ref.extractall()  # extrai os arquivos no diretório atual\n",
    "\n",
    "# Carrega os arquivos CSV extraídos em DataFrames pandas, usando nomes curtos para cada tabela\n",
    "orders = pd.read_csv('olist_orders_dataset.csv')\n",
    "order_items = pd.read_csv('olist_order_items_dataset.csv')\n",
    "order_payments = pd.read_csv('olist_order_payments_dataset.csv')\n",
    "order_reviews = pd.read_csv('olist_order_reviews_dataset.csv')\n",
    "customers = pd.read_csv('olist_customers_dataset.csv')\n",
    "sellers = pd.read_csv('olist_sellers_dataset.csv')\n",
    "products = pd.read_csv('olist_products_dataset.csv')\n",
    "geolocation = pd.read_csv('olist_geolocation_dataset.csv')\n",
    "category_translation = pd.read_csv('product_category_name_translation.csv')\n",
    "\n",
    "# Exibe brevemente o número de linhas e colunas de cada conjunto de dados carregado\n",
    "print(\"Dimensões iniciais de cada tabela:\")\n",
    "print(f\"orders: {orders.shape}\")\n",
    "print(f\"order_items: {order_items.shape}\")\n",
    "print(f\"order_payments: {order_payments.shape}\")\n",
    "print(f\"order_reviews: {order_reviews.shape}\")\n",
    "print(f\"customers: {customers.shape}\")\n",
    "print(f\"sellers: {sellers.shape}\")\n",
    "print(f\"products: {products.shape}\")\n",
    "print(f\"geolocation: {geolocation.shape}\")\n",
    "print(f\"category_translation: {category_translation.shape}\")\n"
   ]
  },
  {
   "cell_type": "markdown",
   "id": "eb0dfa73-9933-42d5-a85d-ece79e973c8b",
   "metadata": {},
   "source": [
    "(Após a execução do código acima, teremos cada arquivo CSV carregado em um DataFrame. A saída .shape mostra as dimensões iniciais de cada tabela, por exemplo, quantas linhas (registros) e colunas cada DataFrame possui. Isso nos dá uma ideia do tamanho de cada conjunto de dados logo após a importação.)"
   ]
  },
  {
   "cell_type": "markdown",
   "id": "7fb3e1e1-8e75-428a-bb91-157c4094e557",
   "metadata": {},
   "source": [
    "# Preparação e Limpeza dos Dados\n",
    "Agora que os dados foram carregados, vamos realizar as etapas de limpeza e formatação conforme planejado:\n",
    "1. Normalização de nomes de colunas: Vamos renomear todas as colunas para letras minúsculas, garantindo um formato consistente. Também podemos ajustar tipos de dados, convertendo colunas de data para o tipo datetime do pandas, por exemplo.\n",
    "2. Tratamento de valores nulos: Identificamos valores ausentes em colunas importantes (por exemplo, datas de entrega ausentes em pedidos cancelados ou não entregues, ou CEPs de clientes/vendedores sem correspondência na tabela de geolocalização). Decidimos como tratar esses casos - aqui optaremos por remover registros de pedidos que não foram entregues (pois possuem datas de entrega ausentes) e remover clientes/vendedores cujo CEP não tem informação de latitude/longitude.\n",
    "3. Remoção de duplicatas: Eliminamos registros duplicados exatos em cada tabela, se houver. No caso especial da tabela de geolocalização, consolidaremos os múltiplos registros por prefixo de CEP, mantendo uma única coordenada média por CEP para evitar duplicidade na junção com clientes e vendedores.\n",
    "4. Normalização de dados: Além dos nomes de colunas, asseguramos que outras colunas estejam em formato apropriado. Por exemplo, garantimos que códigos e IDs permaneçam em string (ou outro tipo adequado), e unificamos textos categóricos se necessário. Também incorporamos a tradução de categorias de produto na tabela de produtos para termos os nomes de categorias em inglês disponíveis.\n",
    "5. Criação de relacionamentos (mesclagem de tabelas): Usando as chaves primárias/estrangeiras presentes, vamos conectar os DataFrames para simular o modelo relacional. Isso inclui adicionar colunas de latitude/longitude aos clientes e vendedores (mesclando com o DataFrame de geolocalização) e verificar ligações como pedidos x clientes, itens x pedidos, itens x produtos, etc. Faremos alguns merges de exemplo para consolidar dados relevantes, facilitando futuras análises.\n",
    "\n",
    "\n",
    "Vamos executar cada uma dessas etapas passo a passo, comentando o código em detalhes:"
   ]
  },
  {
   "cell_type": "markdown",
   "id": "0f2f87c3-6578-476d-a68e-e23e5a417d68",
   "metadata": {},
   "source": [
    "## 1.1 Normalizar nomes de colunas para minúsculo e ajustar tipos de dados relevantes\n",
    "\n",
    "Converte todos os nomes de colunas em todos os DataFrames para letras minúsculas (para consistência)"
   ]
  },
  {
   "cell_type": "code",
   "execution_count": 2,
   "id": "b781457d-f8ee-41ab-a007-93487559d148",
   "metadata": {},
   "outputs": [],
   "source": [
    "orders.columns = orders.columns.str.lower()\n",
    "order_items.columns = order_items.columns.str.lower()\n",
    "order_payments.columns = order_payments.columns.str.lower()\n",
    "order_reviews.columns = order_reviews.columns.str.lower()\n",
    "customers.columns = customers.columns.str.lower()\n",
    "sellers.columns = sellers.columns.str.lower()\n",
    "products.columns = products.columns.str.lower()\n",
    "geolocation.columns = geolocation.columns.str.lower()\n",
    "category_translation.columns = category_translation.columns.str.lower()"
   ]
  },
  {
   "cell_type": "markdown",
   "id": "c3345ce1-f533-4752-afac-2c321f560a04",
   "metadata": {},
   "source": [
    "## Converte colunas de data (timestamp) para o tipo datetime do pandas, onde aplicável\n"
   ]
  },
  {
   "cell_type": "code",
   "execution_count": 3,
   "id": "2b36741a-0a33-4916-84e2-b13217bd0bfd",
   "metadata": {},
   "outputs": [],
   "source": [
    "orders['order_purchase_timestamp'] = pd.to_datetime(orders['order_purchase_timestamp'])\n",
    "orders['order_approved_at'] = pd.to_datetime(orders['order_approved_at'])\n",
    "orders['order_delivered_carrier_date'] = pd.to_datetime(orders['order_delivered_carrier_date'])\n",
    "orders['order_delivered_customer_date'] = pd.to_datetime(orders['order_delivered_customer_date'])\n",
    "orders['order_estimated_delivery_date'] = pd.to_datetime(orders['order_estimated_delivery_date'])\n"
   ]
  },
  {
   "cell_type": "markdown",
   "id": "bc24a935-56f3-4082-89e8-010afdd32db3",
   "metadata": {},
   "source": [
    "## No DataFrame order_items, converte a coluna de data limite de envio ('shipping_limit_date') para datetime"
   ]
  },
  {
   "cell_type": "code",
   "execution_count": 4,
   "id": "a8f2694a-8e62-4fe5-ba4e-bc2a3a8a02e1",
   "metadata": {},
   "outputs": [],
   "source": [
    "order_items['shipping_limit_date'] = pd.to_datetime(order_items['shipping_limit_date'])"
   ]
  },
  {
   "cell_type": "markdown",
   "id": "38760a28-4485-4e87-aec0-b181dab60b7a",
   "metadata": {},
   "source": [
    "## Converte colunas de data em order_reviews (datas de criação e resposta da avaliação)"
   ]
  },
  {
   "cell_type": "code",
   "execution_count": 5,
   "id": "33e7b619-85a8-48b0-8459-8f00a033134f",
   "metadata": {},
   "outputs": [],
   "source": [
    "order_reviews['review_creation_date'] = pd.to_datetime(order_reviews['review_creation_date'])\n",
    "order_reviews['review_answer_timestamp'] = pd.to_datetime(order_reviews['review_answer_timestamp'])"
   ]
  },
  {
   "cell_type": "markdown",
   "id": "8b96e783-ebdc-456e-bdf3-3591147d977a",
   "metadata": {},
   "source": [
    "## 1.2 Tratar valores nulos e registros indesejados\n"
   ]
  },
  {
   "cell_type": "code",
   "execution_count": 6,
   "id": "4468db53-274f-4739-b5b4-5ededbc79925",
   "metadata": {},
   "outputs": [
    {
     "data": {
      "text/plain": [
       "array(['delivered', 'invoiced', 'shipped', 'processing', 'unavailable',\n",
       "       'canceled', 'created', 'approved'], dtype=object)"
      ]
     },
     "execution_count": 6,
     "metadata": {},
     "output_type": "execute_result"
    }
   ],
   "source": [
    "orders['order_status'].unique()\n"
   ]
  },
  {
   "cell_type": "code",
   "execution_count": 7,
   "id": "4124c091-2b8d-4ee1-a0fc-1421eb2eb13d",
   "metadata": {},
   "outputs": [
    {
     "data": {
      "text/plain": [
       "order_status\n",
       "delivered      96478\n",
       "shipped         1107\n",
       "canceled         625\n",
       "unavailable      609\n",
       "invoiced         314\n",
       "processing       301\n",
       "created            5\n",
       "approved           2\n",
       "Name: count, dtype: int64"
      ]
     },
     "execution_count": 7,
     "metadata": {},
     "output_type": "execute_result"
    }
   ],
   "source": [
    "orders['order_status'].value_counts()\n"
   ]
  },
  {
   "cell_type": "code",
   "execution_count": 8,
   "id": "1e3d3df4-45ed-4c34-a5a0-3e3f72210c7c",
   "metadata": {},
   "outputs": [
    {
     "name": "stdout",
     "output_type": "stream",
     "text": [
      "\n",
      "Pedidos removidos (não entregues): 2971\n"
     ]
    }
   ],
   "source": [
    "# ================================================================\n",
    "#  Filtro de pedidos entregues (status 'delivered' e data entregue presente)\n",
    "# ================================================================\n",
    "initial_orders = orders.shape[0]\n",
    "orders = orders[\n",
    "    (orders['order_status'] == 'delivered') &\n",
    "    (orders['order_delivered_customer_date'].notna())\n",
    "]\n",
    "print(f\"\\nPedidos removidos (não entregues): {initial_orders - orders.shape[0]}\")"
   ]
  },
  {
   "cell_type": "code",
   "execution_count": 9,
   "id": "2f734b2a-16ce-4293-b25a-4a6f13c06b8c",
   "metadata": {},
   "outputs": [],
   "source": [
    "# ----------------------------------------------------------------\n",
    "# 4. Tradução de categorias de produto\n",
    "# ----------------------------------------------------------------\n",
    "products = products.merge(category_translation, on='product_category_name', how='left')\n",
    "products['product_category_name_english'] = (\n",
    "    products['product_category_name_english'].fillna('unknown')\n",
    ")"
   ]
  },
  {
   "cell_type": "code",
   "execution_count": 10,
   "id": "66660908-1500-411b-8810-527f2e0c0ebc",
   "metadata": {
    "scrolled": true
   },
   "outputs": [
    {
     "data": {
      "text/html": [
       "<div>\n",
       "<style scoped>\n",
       "    .dataframe tbody tr th:only-of-type {\n",
       "        vertical-align: middle;\n",
       "    }\n",
       "\n",
       "    .dataframe tbody tr th {\n",
       "        vertical-align: top;\n",
       "    }\n",
       "\n",
       "    .dataframe thead th {\n",
       "        text-align: right;\n",
       "    }\n",
       "</style>\n",
       "<table border=\"1\" class=\"dataframe\">\n",
       "  <thead>\n",
       "    <tr style=\"text-align: right;\">\n",
       "      <th></th>\n",
       "      <th>product_id</th>\n",
       "      <th>product_category_name</th>\n",
       "      <th>product_name_lenght</th>\n",
       "      <th>product_description_lenght</th>\n",
       "      <th>product_photos_qty</th>\n",
       "      <th>product_weight_g</th>\n",
       "      <th>product_length_cm</th>\n",
       "      <th>product_height_cm</th>\n",
       "      <th>product_width_cm</th>\n",
       "      <th>product_category_name_english</th>\n",
       "    </tr>\n",
       "  </thead>\n",
       "  <tbody>\n",
       "    <tr>\n",
       "      <th>0</th>\n",
       "      <td>1e9e8ef04dbcff4541ed26657ea517e5</td>\n",
       "      <td>perfumaria</td>\n",
       "      <td>40.0</td>\n",
       "      <td>287.0</td>\n",
       "      <td>1.0</td>\n",
       "      <td>225.0</td>\n",
       "      <td>16.0</td>\n",
       "      <td>10.0</td>\n",
       "      <td>14.0</td>\n",
       "      <td>perfumery</td>\n",
       "    </tr>\n",
       "    <tr>\n",
       "      <th>1</th>\n",
       "      <td>3aa071139cb16b67ca9e5dea641aaa2f</td>\n",
       "      <td>artes</td>\n",
       "      <td>44.0</td>\n",
       "      <td>276.0</td>\n",
       "      <td>1.0</td>\n",
       "      <td>1000.0</td>\n",
       "      <td>30.0</td>\n",
       "      <td>18.0</td>\n",
       "      <td>20.0</td>\n",
       "      <td>art</td>\n",
       "    </tr>\n",
       "    <tr>\n",
       "      <th>2</th>\n",
       "      <td>96bd76ec8810374ed1b65e291975717f</td>\n",
       "      <td>esporte_lazer</td>\n",
       "      <td>46.0</td>\n",
       "      <td>250.0</td>\n",
       "      <td>1.0</td>\n",
       "      <td>154.0</td>\n",
       "      <td>18.0</td>\n",
       "      <td>9.0</td>\n",
       "      <td>15.0</td>\n",
       "      <td>sports_leisure</td>\n",
       "    </tr>\n",
       "    <tr>\n",
       "      <th>3</th>\n",
       "      <td>cef67bcfe19066a932b7673e239eb23d</td>\n",
       "      <td>bebes</td>\n",
       "      <td>27.0</td>\n",
       "      <td>261.0</td>\n",
       "      <td>1.0</td>\n",
       "      <td>371.0</td>\n",
       "      <td>26.0</td>\n",
       "      <td>4.0</td>\n",
       "      <td>26.0</td>\n",
       "      <td>baby</td>\n",
       "    </tr>\n",
       "    <tr>\n",
       "      <th>4</th>\n",
       "      <td>9dc1a7de274444849c219cff195d0b71</td>\n",
       "      <td>utilidades_domesticas</td>\n",
       "      <td>37.0</td>\n",
       "      <td>402.0</td>\n",
       "      <td>4.0</td>\n",
       "      <td>625.0</td>\n",
       "      <td>20.0</td>\n",
       "      <td>17.0</td>\n",
       "      <td>13.0</td>\n",
       "      <td>housewares</td>\n",
       "    </tr>\n",
       "    <tr>\n",
       "      <th>...</th>\n",
       "      <td>...</td>\n",
       "      <td>...</td>\n",
       "      <td>...</td>\n",
       "      <td>...</td>\n",
       "      <td>...</td>\n",
       "      <td>...</td>\n",
       "      <td>...</td>\n",
       "      <td>...</td>\n",
       "      <td>...</td>\n",
       "      <td>...</td>\n",
       "    </tr>\n",
       "    <tr>\n",
       "      <th>32946</th>\n",
       "      <td>a0b7d5a992ccda646f2d34e418fff5a0</td>\n",
       "      <td>moveis_decoracao</td>\n",
       "      <td>45.0</td>\n",
       "      <td>67.0</td>\n",
       "      <td>2.0</td>\n",
       "      <td>12300.0</td>\n",
       "      <td>40.0</td>\n",
       "      <td>40.0</td>\n",
       "      <td>40.0</td>\n",
       "      <td>furniture_decor</td>\n",
       "    </tr>\n",
       "    <tr>\n",
       "      <th>32947</th>\n",
       "      <td>bf4538d88321d0fd4412a93c974510e6</td>\n",
       "      <td>construcao_ferramentas_iluminacao</td>\n",
       "      <td>41.0</td>\n",
       "      <td>971.0</td>\n",
       "      <td>1.0</td>\n",
       "      <td>1700.0</td>\n",
       "      <td>16.0</td>\n",
       "      <td>19.0</td>\n",
       "      <td>16.0</td>\n",
       "      <td>construction_tools_lights</td>\n",
       "    </tr>\n",
       "    <tr>\n",
       "      <th>32948</th>\n",
       "      <td>9a7c6041fa9592d9d9ef6cfe62a71f8c</td>\n",
       "      <td>cama_mesa_banho</td>\n",
       "      <td>50.0</td>\n",
       "      <td>799.0</td>\n",
       "      <td>1.0</td>\n",
       "      <td>1400.0</td>\n",
       "      <td>27.0</td>\n",
       "      <td>7.0</td>\n",
       "      <td>27.0</td>\n",
       "      <td>bed_bath_table</td>\n",
       "    </tr>\n",
       "    <tr>\n",
       "      <th>32949</th>\n",
       "      <td>83808703fc0706a22e264b9d75f04a2e</td>\n",
       "      <td>informatica_acessorios</td>\n",
       "      <td>60.0</td>\n",
       "      <td>156.0</td>\n",
       "      <td>2.0</td>\n",
       "      <td>700.0</td>\n",
       "      <td>31.0</td>\n",
       "      <td>13.0</td>\n",
       "      <td>20.0</td>\n",
       "      <td>computers_accessories</td>\n",
       "    </tr>\n",
       "    <tr>\n",
       "      <th>32950</th>\n",
       "      <td>106392145fca363410d287a815be6de4</td>\n",
       "      <td>cama_mesa_banho</td>\n",
       "      <td>58.0</td>\n",
       "      <td>309.0</td>\n",
       "      <td>1.0</td>\n",
       "      <td>2083.0</td>\n",
       "      <td>12.0</td>\n",
       "      <td>2.0</td>\n",
       "      <td>7.0</td>\n",
       "      <td>bed_bath_table</td>\n",
       "    </tr>\n",
       "  </tbody>\n",
       "</table>\n",
       "<p>32951 rows × 10 columns</p>\n",
       "</div>"
      ],
      "text/plain": [
       "                             product_id              product_category_name  \\\n",
       "0      1e9e8ef04dbcff4541ed26657ea517e5                         perfumaria   \n",
       "1      3aa071139cb16b67ca9e5dea641aaa2f                              artes   \n",
       "2      96bd76ec8810374ed1b65e291975717f                      esporte_lazer   \n",
       "3      cef67bcfe19066a932b7673e239eb23d                              bebes   \n",
       "4      9dc1a7de274444849c219cff195d0b71              utilidades_domesticas   \n",
       "...                                 ...                                ...   \n",
       "32946  a0b7d5a992ccda646f2d34e418fff5a0                   moveis_decoracao   \n",
       "32947  bf4538d88321d0fd4412a93c974510e6  construcao_ferramentas_iluminacao   \n",
       "32948  9a7c6041fa9592d9d9ef6cfe62a71f8c                    cama_mesa_banho   \n",
       "32949  83808703fc0706a22e264b9d75f04a2e             informatica_acessorios   \n",
       "32950  106392145fca363410d287a815be6de4                    cama_mesa_banho   \n",
       "\n",
       "       product_name_lenght  product_description_lenght  product_photos_qty  \\\n",
       "0                     40.0                       287.0                 1.0   \n",
       "1                     44.0                       276.0                 1.0   \n",
       "2                     46.0                       250.0                 1.0   \n",
       "3                     27.0                       261.0                 1.0   \n",
       "4                     37.0                       402.0                 4.0   \n",
       "...                    ...                         ...                 ...   \n",
       "32946                 45.0                        67.0                 2.0   \n",
       "32947                 41.0                       971.0                 1.0   \n",
       "32948                 50.0                       799.0                 1.0   \n",
       "32949                 60.0                       156.0                 2.0   \n",
       "32950                 58.0                       309.0                 1.0   \n",
       "\n",
       "       product_weight_g  product_length_cm  product_height_cm  \\\n",
       "0                 225.0               16.0               10.0   \n",
       "1                1000.0               30.0               18.0   \n",
       "2                 154.0               18.0                9.0   \n",
       "3                 371.0               26.0                4.0   \n",
       "4                 625.0               20.0               17.0   \n",
       "...                 ...                ...                ...   \n",
       "32946           12300.0               40.0               40.0   \n",
       "32947            1700.0               16.0               19.0   \n",
       "32948            1400.0               27.0                7.0   \n",
       "32949             700.0               31.0               13.0   \n",
       "32950            2083.0               12.0                2.0   \n",
       "\n",
       "       product_width_cm product_category_name_english  \n",
       "0                  14.0                     perfumery  \n",
       "1                  20.0                           art  \n",
       "2                  15.0                sports_leisure  \n",
       "3                  26.0                          baby  \n",
       "4                  13.0                    housewares  \n",
       "...                 ...                           ...  \n",
       "32946              40.0               furniture_decor  \n",
       "32947              16.0     construction_tools_lights  \n",
       "32948              27.0                bed_bath_table  \n",
       "32949              20.0         computers_accessories  \n",
       "32950               7.0                bed_bath_table  \n",
       "\n",
       "[32951 rows x 10 columns]"
      ]
     },
     "execution_count": 10,
     "metadata": {},
     "output_type": "execute_result"
    }
   ],
   "source": [
    "products"
   ]
  },
  {
   "cell_type": "code",
   "execution_count": 11,
   "id": "e4eafe7d-560f-4fd2-8343-0f0519de7e1e",
   "metadata": {},
   "outputs": [],
   "source": [
    "# ================================================================\n",
    "#  Remover duplicatas exatas\n",
    "# ================================================================\n",
    "for df in [orders, order_items, order_payments, order_reviews,\n",
    "           customers, sellers, products, category_translation]:\n",
    "    df.drop_duplicates(inplace=True)"
   ]
  },
  {
   "cell_type": "code",
   "execution_count": 12,
   "id": "529df8f0-0eda-49b0-acdb-c5d6eb94206e",
   "metadata": {},
   "outputs": [
    {
     "name": "stdout",
     "output_type": "stream",
     "text": [
      "Prefixos de CEP únicos na geolocalização: 19015\n"
     ]
    }
   ],
   "source": [
    "# ================================================================\n",
    "#  Consolidar geolocalização por prefixo de CEP\n",
    "# ================================================================\n",
    "geolocation.drop_duplicates(inplace=True)  # remove linhas idênticas\n",
    "geo_unique = (geolocation.groupby('geolocation_zip_code_prefix')\n",
    "              .agg(geolocation_lat=('geolocation_lat','mean'),\n",
    "                   geolocation_lng=('geolocation_lng','mean'),\n",
    "                   geolocation_city=('geolocation_city','first'),\n",
    "                   geolocation_state=('geolocation_state','first'))\n",
    "              .reset_index())\n",
    "print(f\"Prefixos de CEP únicos na geolocalização: {geo_unique.shape[0]}\")"
   ]
  },
  {
   "cell_type": "code",
   "execution_count": 13,
   "id": "c2ae0162-e36e-4d00-9098-68ab6039b1fc",
   "metadata": {},
   "outputs": [
    {
     "data": {
      "text/plain": [
       "3095"
      ]
     },
     "execution_count": 13,
     "metadata": {},
     "output_type": "execute_result"
    }
   ],
   "source": [
    "sellers['seller_id'].nunique()\n"
   ]
  },
  {
   "cell_type": "code",
   "execution_count": 14,
   "id": "04381951-a731-4bed-b21b-acf348a73d44",
   "metadata": {},
   "outputs": [
    {
     "name": "stdout",
     "output_type": "stream",
     "text": [
      "Clientes sem coordenadas: 278\n",
      "Vendedores sem coordenadas: 7\n"
     ]
    }
   ],
   "source": [
    "# ================================================================\n",
    "#  Mesclar coordenadas em clientes e vendedores\n",
    "# ================================================================\n",
    "# -- Clientes -----------------------------------------------------\n",
    "customers = customers.merge(\n",
    "    geo_unique[['geolocation_zip_code_prefix','geolocation_lat','geolocation_lng']],\n",
    "    how='left',\n",
    "    left_on='customer_zip_code_prefix',\n",
    "    right_on='geolocation_zip_code_prefix'\n",
    ").rename(columns={'geolocation_lat':'customer_lat',\n",
    "                  'geolocation_lng':'customer_lng'})\n",
    "\n",
    "missing_cust = customers['customer_lat'].isna().sum()\n",
    "print(f\"Clientes sem coordenadas: {missing_cust}\")\n",
    "if missing_cust:\n",
    "    bad_ids = set(customers.loc[customers['customer_lat'].isna(),'customer_id'])\n",
    "    customers = customers[~customers['customer_id'].isin(bad_ids)]\n",
    "    orders = orders[~orders['customer_id'].isin(bad_ids)]\n",
    "\n",
    "# -- Vendedores ---------------------------------------------------\n",
    "sellers = sellers.merge(\n",
    "    geo_unique[['geolocation_zip_code_prefix','geolocation_lat','geolocation_lng']],\n",
    "    how='left',\n",
    "    left_on='seller_zip_code_prefix',\n",
    "    right_on='geolocation_zip_code_prefix'\n",
    ").rename(columns={'geolocation_lat':'seller_lat',\n",
    "                  'geolocation_lng':'seller_lng'})\n",
    "\n",
    "missing_sell = sellers['seller_lat'].isna().sum()\n",
    "print(f\"Vendedores sem coordenadas: {missing_sell}\")\n",
    "if missing_sell:\n",
    "    bad_sellers = set(sellers.loc[sellers['seller_lat'].isna(), 'seller_id'])\n",
    "    sellers = sellers[~sellers['seller_id'].isin(bad_sellers)]\n",
    "    order_items = order_items[~order_items['seller_id'].isin(bad_sellers)]\n",
    "\n"
   ]
  },
  {
   "cell_type": "code",
   "execution_count": 15,
   "id": "71ee46d1-2d57-4543-8db8-469f005e28e1",
   "metadata": {},
   "outputs": [],
   "source": [
    "# ================================================================\n",
    "#  SINCRONIZAR TABELAS QUE USAM order_id (após remoções)\n",
    "# ================================================================\n",
    "valid_orders = set(orders['order_id'])\n",
    "\n",
    "order_items = order_items[order_items['order_id'].isin(valid_orders)]\n",
    "order_payments = order_payments[order_payments['order_id'].isin(valid_orders)]\n",
    "order_reviews = order_reviews[order_reviews['order_id'].isin(valid_orders)]"
   ]
  },
  {
   "cell_type": "code",
   "execution_count": 16,
   "id": "926a7978-13b7-4003-a6d8-a0eaeaaeb753",
   "metadata": {},
   "outputs": [],
   "source": [
    "# ================================================================\n",
    "#  Enriquecer order_items (produto + vendedor) e orders (cliente + review + pagamento)\n",
    "# ================================================================\n",
    "order_items = (order_items\n",
    "               .merge(products, on='product_id', how='left')\n",
    "               .merge(sellers, on='seller_id', how='left'))\n",
    "\n",
    "orders = (orders\n",
    "          .merge(customers, on='customer_id', how='left')\n",
    "          .merge(order_reviews[['order_id','review_score','review_comment_message']],\n",
    "                 on='order_id', how='left'))\n",
    "\n",
    "payments_agg = (order_payments.groupby('order_id')\n",
    "                .agg(total_payment=('payment_value','sum'),\n",
    "                     total_installments=('payment_installments','sum'))\n",
    "                .reset_index())\n",
    "orders = orders.merge(payments_agg, on='order_id', how='left')"
   ]
  },
  {
   "cell_type": "code",
   "execution_count": 17,
   "id": "d2803d7f-e5dd-4473-8560-ee309df3b99f",
   "metadata": {},
   "outputs": [
    {
     "name": "stdout",
     "output_type": "stream",
     "text": [
      "\n",
      "✅ Limpeza e preparação concluídas – dados prontos para análise!\n"
     ]
    }
   ],
   "source": [
    "# ================================================================\n",
    "# 9) Verificações finais de integridade referencial\n",
    "# ================================================================\n",
    "assert orders['customer_id'].isin(customers['customer_id']).all(), \\\n",
    "    \"Inconsistência: customer_id em orders não encontrado em customers.\"\n",
    "\n",
    "assert order_items['order_id'].isin(orders['order_id']).all(), \\\n",
    "    \"Inconsistência: order_id em order_items não encontrado em orders.\"\n",
    "\n",
    "assert order_items['product_id'].isin(products['product_id']).all(), \\\n",
    "    \"Inconsistência: product_id em order_items não encontrado em products.\"\n",
    "\n",
    "assert order_items['seller_id'].isin(sellers['seller_id']).all(), \\\n",
    "    \"Inconsistência: seller_id em order_items não encontrado em sellers.\"\n",
    "\n",
    "print(\"\\n✅ Limpeza e preparação concluídas – dados prontos para análise!\")\n"
   ]
  },
  {
   "cell_type": "code",
   "execution_count": 18,
   "id": "b0478196-5897-42a1-9126-f58050b5d02e",
   "metadata": {},
   "outputs": [
    {
     "name": "stdout",
     "output_type": "stream",
     "text": [
      "\n",
      "Dimensões finais pós-limpeza:\n",
      "orders              : (96732, 19)\n",
      "order_items         : (109653, 22)\n",
      "customers           : (99163, 8)\n",
      "sellers             : (3088, 7)\n",
      "products            : (32951, 10)\n"
     ]
    }
   ],
   "source": [
    "# Exibir dimensões finais resumidas\n",
    "print(\"\\nDimensões finais pós-limpeza:\")\n",
    "for name, df in [('orders',orders),('order_items',order_items),\n",
    "                 ('customers',customers),('sellers',sellers),\n",
    "                 ('products',products)]:\n",
    "    print(f\"{name:20s}: {df.shape}\")"
   ]
  },
  {
   "cell_type": "markdown",
   "id": "be89bacd-7c85-4c91-ada4-b187ae0566c0",
   "metadata": {},
   "source": [
    "### Finalização da etapa 1 – Preparação dos Dados\n",
    "\n",
    "1. **Importação dos CSVs:** carregamos todos os arquivos do dataset da Olist.  \n",
    "2. **Padronização:** nomes de colunas em minúsculo e conversão de datas para `datetime`.  \n",
    "3. **Filtro de Pedidos Entregues:** mantivemos apenas `order_status = 'delivered'` e com data real de entrega – isso garante foco em compras concluídas.  \n",
    "4. **Tradução de Categorias:** juntamos `products` com a tabela de tradução para obter `product_category_name_english`.  \n",
    "5. **Geolocalização:** consolidamos a latitude/longitude por prefixo de CEP e unimos aos clientes e vendedores. Removemos registros sem coordenadas.  \n",
    "6. **Sincronização:** itens, pagamentos e reviews agora contêm somente `order_id` válidos.  \n",
    "7. **Enriquecimento:**  \n",
    "   - `order_items` inclui detalhes de produto + vendedor,  \n",
    "   - `orders` inclui localização do cliente, nota de review e total pago.  \n",
    "8. **Verificações de Integridade:** asserts garantem que nenhuma chave estrangeira ficou órfã.  \n",
    "\n",
    "Os DataFrames **`orders`**, **`order_items`**, **`customers`**, **`sellers`** e **`products`** estão prontos para a **Análise Exploratória** (Etapa 2).  \n"
   ]
  },
  {
   "cell_type": "markdown",
   "id": "a4851f3f-8556-4700-a203-9ebe6bca6a0a",
   "metadata": {},
   "source": [
    "# Análise Exploratória de Dados - Olist (Etapa 2)\n",
    "\n",
    "Nesta análise exploratória, vamos utilizar os dados da Olist (um e-commerce brasileiro) previamente preparados na Etapa 1. Os principais DataFrames disponíveis são: orders, order_items, order_payments, order_reviews, customers, sellers, products, geolocation e category_translation. Os DataFrames orders e order_items já foram enriquecidos com informações de localização (cidades/estados), avaliações, pagamentos, além de dados dos produtos e vendedores correspondentes. Vamos responder a cinco perguntas de negócio usando uma combinação de técnicas:\n",
    "1. Volume de pedidos por mês: Quantos pedidos são feitos a cada mês? Há sazonalidade nas vendas?\n",
    "2. Tempo de entrega dos pedidos: Como se distribui o tempo (dias) de entrega dos pedidos?\n",
    "3. Frete vs. Distância: Qual a relação entre o valor do frete e a distância de entrega?\n",
    "4. Categorias mais vendidas (faturamento): Quais categorias de produtos geram maior faturamento?\n",
    "5. Ticket médio por estado: Quais estados brasileiros possuem o maior valor médio de pedido?\n",
    "\n",
    "\n",
    "Para isso, utilizaremos tanto consultas SQL (SQLite) quanto operações com o pandas. Também iremos gerar visualizações com matplotlib/seaborn para melhor interpretação onde for adequado. \n",
    "\n",
    "Cada passo da análise será apresentado com código (devidamente comentado) e uma breve explicação dos resultados obtidos.\n",
    "\n",
    "## Preparação: Carregar dados em um banco SQLite em memória\n",
    "\n",
    "Para aproveitar o poder das consultas SQL, vamos primeiro carregar os DataFrames em um banco de dados SQLite em memória. Isso nos permitirá escrever consultas SQL diretamente sobre os dados. Em paralelo, manteremos os DataFrames pandas para análises complementares e visualizações.\n"
   ]
  },
  {
   "cell_type": "code",
   "execution_count": 19,
   "id": "b610eda9-be38-47c9-a897-c3f3c27318cb",
   "metadata": {},
   "outputs": [
    {
     "name": "stdout",
     "output_type": "stream",
     "text": [
      "Tabelas no banco de dados: ['orders', 'order_items', 'order_payments', 'order_reviews', 'customers', 'sellers', 'products', 'geolocation', 'category_translation']\n",
      "\n",
      "Exemplo de colunas em 'orders':\n",
      "                             name       type\n",
      "0                        order_id       TEXT\n",
      "1                     customer_id       TEXT\n",
      "2                    order_status       TEXT\n",
      "3        order_purchase_timestamp  TIMESTAMP\n",
      "4               order_approved_at  TIMESTAMP\n",
      "5    order_delivered_carrier_date  TIMESTAMP\n",
      "6   order_delivered_customer_date  TIMESTAMP\n",
      "7   order_estimated_delivery_date  TIMESTAMP\n",
      "8              customer_unique_id       TEXT\n",
      "9        customer_zip_code_prefix    INTEGER\n",
      "10                  customer_city       TEXT\n",
      "11                 customer_state       TEXT\n",
      "12    geolocation_zip_code_prefix       REAL\n",
      "13                   customer_lat       REAL\n",
      "14                   customer_lng       REAL\n",
      "15                   review_score       REAL\n",
      "16         review_comment_message       TEXT\n",
      "17                  total_payment       REAL\n",
      "18             total_installments       REAL\n",
      "\n",
      "Primeiras linhas da tabela 'orders':\n",
      "                           order_id                       customer_id  \\\n",
      "0  e481f51cbdc54678b7cc49136f2d6af7  9ef432eb6251297304e76186b10a928d   \n",
      "1  53cdb2fc8bc7dce0b6741e2150273451  b0830fb4747a6c6d20dea0b8c802d7ef   \n",
      "2  47770eb9100c2d0c44946d9cf07ec65d  41ce2a54c0b03bf3443c3d931a367089   \n",
      "3  949d5b44dbf5de918fe9c16f97b45f8a  f88197465ea7920adcdbec7375364d82   \n",
      "4  ad21c59c0840e6cb83a9ceb5573f8159  8ab97904e6daea8866dbdbc4fb7aad2c   \n",
      "\n",
      "  order_status order_purchase_timestamp    order_approved_at  \\\n",
      "0    delivered      2017-10-02 10:56:33  2017-10-02 11:07:15   \n",
      "1    delivered      2018-07-24 20:41:37  2018-07-26 03:24:27   \n",
      "2    delivered      2018-08-08 08:38:49  2018-08-08 08:55:23   \n",
      "3    delivered      2017-11-18 19:28:06  2017-11-18 19:45:59   \n",
      "4    delivered      2018-02-13 21:18:39  2018-02-13 22:20:29   \n",
      "\n",
      "  order_delivered_carrier_date order_delivered_customer_date  \\\n",
      "0          2017-10-04 19:55:00           2017-10-10 21:25:13   \n",
      "1          2018-07-26 14:31:00           2018-08-07 15:27:45   \n",
      "2          2018-08-08 13:50:00           2018-08-17 18:06:29   \n",
      "3          2017-11-22 13:39:59           2017-12-02 00:28:42   \n",
      "4          2018-02-14 19:46:34           2018-02-16 18:17:02   \n",
      "\n",
      "  order_estimated_delivery_date                customer_unique_id  \\\n",
      "0           2017-10-18 00:00:00  7c396fd4830fd04220f754e42b4e5bff   \n",
      "1           2018-08-13 00:00:00  af07308b275d755c9edb36a90c618231   \n",
      "2           2018-09-04 00:00:00  3a653a41f6f9fc3d2a113cf8398680e8   \n",
      "3           2017-12-15 00:00:00  7c142cf63193a1473d2e66489a9ae977   \n",
      "4           2018-02-26 00:00:00  72632f0f9dd73dfee390c9b22eb56dd6   \n",
      "\n",
      "   customer_zip_code_prefix            customer_city customer_state  \\\n",
      "0                      3149                sao paulo             SP   \n",
      "1                     47813                barreiras             BA   \n",
      "2                     75265               vianopolis             GO   \n",
      "3                     59296  sao goncalo do amarante             RN   \n",
      "4                      9195              santo andre             SP   \n",
      "\n",
      "   geolocation_zip_code_prefix  customer_lat  customer_lng  review_score  \\\n",
      "0                       3149.0    -23.577482    -46.587077           4.0   \n",
      "1                      47813.0    -12.186877    -44.540232           4.0   \n",
      "2                      75265.0    -16.745150    -48.514783           5.0   \n",
      "3                      59296.0     -5.774002    -35.270976           5.0   \n",
      "4                       9195.0    -23.676257    -46.514580           5.0   \n",
      "\n",
      "                              review_comment_message  total_payment  \\\n",
      "0  Não testei o produto ainda, mas ele veio corre...          38.71   \n",
      "1                               Muito bom o produto.         141.46   \n",
      "2                                               None         179.12   \n",
      "3  O produto foi exatamente o que eu esperava e e...          72.20   \n",
      "4                                               None          28.62   \n",
      "\n",
      "   total_installments  \n",
      "0                 3.0  \n",
      "1                 1.0  \n",
      "2                 3.0  \n",
      "3                 1.0  \n",
      "4                 1.0  \n"
     ]
    }
   ],
   "source": [
    "# Importando bibliotecas necessárias\n",
    "import pandas as pd\n",
    "import sqlite3\n",
    "\n",
    "# Criando uma conexão SQLite em memória\n",
    "conn = sqlite3.connect(':memory:')\n",
    "\n",
    "# Carregando os DataFrames pandas como tabelas no SQLite\n",
    "orders.to_sql('orders', conn, index=False)\n",
    "order_items.to_sql('order_items', conn, index=False)\n",
    "order_payments.to_sql('order_payments', conn, index=False)\n",
    "order_reviews.to_sql('order_reviews', conn, index=False)\n",
    "customers.to_sql('customers', conn, index=False)\n",
    "sellers.to_sql('sellers', conn, index=False)\n",
    "products.to_sql('products', conn, index=False)\n",
    "geolocation.to_sql('geolocation', conn, index=False)\n",
    "category_translation.to_sql('category_translation', conn, index=False)\n",
    "\n",
    "# (Opcional) Verificando se as tabelas foram criadas corretamente, listando algumas colunas e linhas\n",
    "tables = pd.read_sql_query(\"SELECT name FROM sqlite_master WHERE type='table';\", conn)\n",
    "print(\"Tabelas no banco de dados:\", tables['name'].tolist())\n",
    "print(\"\\nExemplo de colunas em 'orders':\")\n",
    "print(pd.read_sql_query(\"PRAGMA table_info(orders);\", conn)[['name', 'type']])\n",
    "print(\"\\nPrimeiras linhas da tabela 'orders':\")\n",
    "print(pd.read_sql_query(\"SELECT * FROM orders LIMIT 5;\", conn))\n"
   ]
  },
  {
   "cell_type": "markdown",
   "id": "b2e44372-75c0-40f9-bcb5-862bbbcffa8d",
   "metadata": {},
   "source": [
    "Acima, estabelecemos uma conexão com um banco de dados SQLite em memória (:memory:) e usamos to_sql para carregar cada DataFrame como uma tabela SQL. Em seguida, listamos as tabelas criadas e exibimos informações da tabela orders (como exemplo) para confirmar que os dados foram carregados corretamente."
   ]
  },
  {
   "cell_type": "markdown",
   "id": "1fd9dcbb-db0a-4fa6-8747-fce42ae90869",
   "metadata": {},
   "source": [
    "# 1. Volume de pedidos por mês (Sazonalidade)\n",
    "\n",
    "Primeiramente, vamos analisar o volume de pedidos ao longo do tempo, agregando por mês. Isso nos permitirá verificar se há tendência de crescimento e identificar possíveis sazonalidades (por exemplo, aumentos de vendas em certos períodos do ano, como feriados). \n",
    "\n",
    "Pergunta: Qual o volume de pedidos por mês? Existe sazonalidade nas vendas? \n",
    "\n",
    "Vamos extrair o ano e mês da data de compra de cada pedido (order_purchase_timestamp) e contar quantos pedidos ocorreram em cada mês. Em seguida, vamos visualizar essa evolução mensal."
   ]
  },
  {
   "cell_type": "code",
   "execution_count": 20,
   "id": "26471f2d-a95b-452b-ac5b-afc24fce98ed",
   "metadata": {},
   "outputs": [
    {
     "name": "stdout",
     "output_type": "stream",
     "text": [
      "Pedidos por mês (ano-mês vs quantidade):\n",
      "  year_month  num_orders\n",
      "0    2016-09           1\n",
      "1    2016-10         267\n",
      "2    2016-12           1\n",
      "3    2017-01         757\n",
      "4    2017-02        1661\n",
      "...\n",
      "\n",
      "   year_month  num_orders\n",
      "18    2018-04        6788\n",
      "19    2018-05        6741\n",
      "20    2018-06        6086\n",
      "21    2018-07        6160\n",
      "22    2018-08        6332\n"
     ]
    }
   ],
   "source": [
    "# 1. Consultando o volume de pedidos por mês usando SQL:\n",
    "query = \"\"\"\n",
    "    SELECT strftime('%Y-%m', order_purchase_timestamp) AS year_month,\n",
    "           COUNT(order_id) AS num_orders\n",
    "    FROM orders\n",
    "    WHERE order_status = 'delivered'\n",
    "    GROUP BY 1\n",
    "    ORDER BY 1;\n",
    "\"\"\"\n",
    "monthly_orders = pd.read_sql_query(query, conn)\n",
    "\n",
    "# Exibindo o resultado da consulta (alguns registros iniciais e finais)\n",
    "print(\"Pedidos por mês (ano-mês vs quantidade):\")\n",
    "print(monthly_orders.head(5))\n",
    "print(\"...\\n\")\n",
    "print(monthly_orders.tail(5))\n"
   ]
  },
  {
   "cell_type": "markdown",
   "id": "e2da661f-5304-401b-8879-86071b3e5163",
   "metadata": {},
   "source": [
    "Utilizamos uma consulta SQL para agrupar os pedidos entregues (order_status = 'delivered') por ano-mês da data de compra. A função strftime('%Y-%m', timestamp) formata a data para o formato \"YYYY-MM\", permitindo agrupar por mês. O resultado é armazenado em monthly_orders, contendo duas colunas: year_month e num_orders (número de pedidos naquele mês). \n",
    "\n",
    "Vamos agora visualizar esses dados em um gráfico de linha, para identificar tendências e sazonalidade facilmente."
   ]
  },
  {
   "cell_type": "code",
   "execution_count": 21,
   "id": "794b59aa-f40f-42cf-8f16-c98bfb10fcb6",
   "metadata": {},
   "outputs": [
    {
     "data": {
      "image/png": "[encoded data removed]",
      "text/plain": [
       "<Figure size 1200x600 with 1 Axes>"
      ]
     },
     "metadata": {},
     "output_type": "display_data"
    }
   ],
   "source": [
    "# 1. Visualizando a série temporal de pedidos mensais\n",
    "import matplotlib.pyplot as plt\n",
    "import seaborn as sns\n",
    "\n",
    "# Configurações de estilo do gráfico\n",
    "sns.set_style(\"whitegrid\")\n",
    "plt.figure(figsize=(12,6))\n",
    "\n",
    "# Gráfico de linha do número de pedidos por mês\n",
    "sns.lineplot(data=monthly_orders, x='year_month', y='num_orders', marker='o')\n",
    "plt.xticks(rotation=45)  # rotaciona os rótulos do eixo X para caber as datas\n",
    "plt.title('Volume de Pedidos por Mês')\n",
    "plt.xlabel('Mês')\n",
    "plt.ylabel('Número de Pedidos')\n",
    "plt.tight_layout()\n",
    "plt.show()\n"
   ]
  },
  {
   "cell_type": "markdown",
   "id": "2fa086a3-f73a-4154-81a7-1203f6f0890c",
   "metadata": {},
   "source": [
    "Usamos seaborn.lineplot para traçar o número de pedidos por mês ao longo do tempo. Marcamos cada ponto com um círculo (marker='o') para destacar os valores mensais. Rotacionamos os rótulos do eixo X para melhor legibilidade das datas. \n",
    "\n",
    "Interpretação: Observando o gráfico de volume mensal de pedidos, podemos notar algumas características importantes:\n",
    "* Há um crescimento no número de pedidos ao longo do período de 2017 a 2018, indicando expansão das vendas da Olist.\n",
    "* Nota-se um pico pronunciado em Novembro de 2017, seguido por vendas também altas em Dezembro de 2017. Esse pico coincide com a Black Friday (final de novembro) e as compras sazonais de fim de ano (Natal), sugerindo forte efeito sazonal nesses meses.\n",
    "* Comparando com outros meses, vemos que Novembro (especialmente de 2017) teve um volume muito acima da média mensal. Em outros anos/períodos disponíveis, há indícios de padrão semelhante (picos no fim do ano), embora o conjunto de dados cubra parcialmente 2016 e 2018.\n",
    "\n",
    "Portanto, existe sazonalidade nas vendas: os últimos meses do ano tendem a concentrar mais pedidos, possivelmente devido a promoções (Black Friday) e compras de Natal. Fora esses picos sazonais, a tendência geral é de crescimento gradual mês a mês."
   ]
  },
  {
   "cell_type": "markdown",
   "id": "582c5732-028b-42cc-9155-44775cfc295b",
   "metadata": {},
   "source": [
    "## 2. Distribuição do tempo de entrega dos pedidos\n",
    "\n",
    "Agora, analisaremos quanto tempo os pedidos levam para ser entregues aos clientes após a compra. \n",
    "\n",
    "Pergunta: Qual a distribuição do tempo de entrega dos pedidos? \n",
    "\n",
    "Vamos calcular, para cada pedido, a diferença entre a data de entrega ao cliente (order_delivered_customer_date) e a data de compra (order_purchase_timestamp). Em seguida, analisaremos estatísticas dessa diferença (em dias) e plotaremos um histograma para visualizar a distribuição."
   ]
  },
  {
   "cell_type": "code",
   "execution_count": 22,
   "id": "18684cad-df71-4846-90a1-3cca3ee80679",
   "metadata": {},
   "outputs": [
    {
     "name": "stdout",
     "output_type": "stream",
     "text": [
      "Estatísticas do tempo de entrega (dias):\n",
      "count    96732.000000\n",
      "mean        12.090663\n",
      "std          9.543287\n",
      "min          0.000000\n",
      "25%          6.000000\n",
      "50%         10.000000\n",
      "75%         15.000000\n",
      "max        209.000000\n",
      "Name: delivery_days, dtype: float64\n"
     ]
    }
   ],
   "source": [
    "# 2. Cálculo do tempo de entrega em dias para cada pedido entregue\n",
    "# Filtrando apenas pedidos entregues para garantir que temos data de entrega\n",
    "delivered_orders = orders[orders['order_status'] == 'delivered'].copy()\n",
    "\n",
    "# Calculando o tempo de entrega (diferença em dias entre compra e entrega)\n",
    "delivered_orders['delivery_days'] = (delivered_orders['order_delivered_customer_date'] - \n",
    "                                     delivered_orders['order_purchase_timestamp']).dt.days\n",
    "\n",
    "# Removendo eventuais valores nulos ou negativos (pedidos sem data de entrega ou entregues antes do registrado)\n",
    "delivered_orders = delivered_orders[delivered_orders['delivery_days'].notna() & (delivered_orders['delivery_days'] >= 0)]\n",
    "\n",
    "# Estatísticas descritivas do tempo de entrega\n",
    "print(\"Estatísticas do tempo de entrega (dias):\")\n",
    "print(delivered_orders['delivery_days'].describe())\n"
   ]
  },
  {
   "cell_type": "markdown",
   "id": "08b407c2-5c99-4781-963c-126406991927",
   "metadata": {},
   "source": [
    "---------------------------\n",
    "Selecionamos apenas os pedidos com status \"delivered\" para termos certeza de possuir uma data de entrega válida. Então criamos a coluna delivery_days calculando a diferença de dias entre a data de entrega e a data de compra. Removemos quaisquer registros com delivery_days nulo ou negativo (casos anômalos ou cancelamentos). Em seguida, exibimos estatísticas descritivas (contagem, média, desvio padrão, quartis, etc.) dessa nova coluna. \n",
    "\n",
    "Agora, vamos visualizar a distribuição desses tempos de entrega em um histograma. Também podemos sobrepor uma curva de densidade (KDE) para entender a forma da distribuição."
   ]
  },
  {
   "cell_type": "code",
   "execution_count": 23,
   "id": "14abc45e-283f-4229-9ad3-680c9d0a413f",
   "metadata": {},
   "outputs": [
    {
     "data": {
      "image/png": "[encoded data removed]",
      "text/plain": [
       "<Figure size 1000x600 with 1 Axes>"
      ]
     },
     "metadata": {},
     "output_type": "display_data"
    }
   ],
   "source": [
    "# 2. Visualização da distribuição do tempo de entrega\n",
    "plt.figure(figsize=(10,6))\n",
    "sns.histplot(delivered_orders['delivery_days'], kde=True, bins=30, color='skyblue')\n",
    "plt.title('Distribuição do Tempo de Entrega dos Pedidos')\n",
    "plt.xlabel('Tempo de Entrega (dias)')\n",
    "plt.ylabel('Frequência')\n",
    "plt.show()\n"
   ]
  },
  {
   "cell_type": "markdown",
   "id": "58060ad5-7e8c-4668-8094-51b24137068d",
   "metadata": {},
   "source": [
    "Utilizamos sns.histplot para plotar um histograma do tempo de entrega (delivery_days) em dias, com 30 bins (faixas). Definimos kde=True para sobrepor a curva de densidade estimada, o que ajuda a visualizar a tendência da distribuição. Ajustamos os rótulos dos eixos para clareza. \n",
    "\n",
    "Interpretação: A distribuição do tempo de entrega dos pedidos mostra que:\n",
    "\n",
    "* O tempo de entrega médio gira em torno de 10 a 12 dias. (De acordo com as estatísticas calculadas, a média está aproximadamente nesse range, e a mediana tende a ser ligeiramente menor, possivelmente por volta de 10 dias.)\n",
    "* A maioria dos pedidos é entregue dentro de 1 a 2 semanas após a compra. Podemos ver uma concentração grande de pedidos entregues em até 10 dias.\n",
    "* A distribuição é assimétrica à direita (possuindo uma cauda à direita): há alguns pedidos com tempos de entrega bem mais longos que o usual. Existem outliers de entregas demoradas, que podem chegar a vários dezenas de dias (por exemplo, mais de 30-40 dias em casos extremos).\n",
    "* Esse comportamento indica que, embora tipicamente os clientes recebam os produtos em um prazo de até duas semanas, há casos excepcionais (provavelmente devido a longas distâncias ou problemas logísticos) em que a entrega demora bem mais que o normal.\n",
    "\n",
    "\n",
    "Resumindo: a maior parte dos pedidos tem entrega relativamente rápida (dentro de 7 a 14 dias), mas uma parcela pequena enfrenta tempos de entrega muito altos, o que puxa a média um pouco para cima."
   ]
  },
  {
   "cell_type": "markdown",
   "id": "c02b9b32-c7a6-4b5a-b91e-6a1415b951b2",
   "metadata": {},
   "source": [
    "## 3. Relação entre valor do frete e distância de entrega\n",
    "\n",
    "Nesta etapa, vamos investigar se pedidos que percorrem distâncias maiores tendem a ter fretes mais caros. Intuitivamente, espera-se que frete e distância tenham correlação positiva (maiores distâncias implicando maiores custos de envio), embora outros fatores como peso e volume do produto também influenciem o valor do frete. \n",
    "\n",
    "Pergunta: Qual a relação entre o valor do frete (freight_value) e a distância de entrega? \n",
    "\n",
    "Para responder, precisamos da distância entre o vendedor e o cliente para cada pedido (ou item do pedido). Podemos calcular a distância geográfica utilizando as coordenadas de latitude/longitude do CEP do vendedor e do cliente. O DataFrame geolocation fornece latitude e longitude aproximada para prefixos de CEP brasileiros. \n",
    "\n",
    "Procedimento:\n",
    "* Obter a localização (latitude/longitude) do cliente e do vendedor para cada item de pedido.\n",
    "* Calcular a distância geodésica entre essas coordenadas (utilizando, por exemplo, a fórmula de Haversine).\n",
    "* Depois, analisar a relação entre freight_value e a distância calculada, usando um gráfico de dispersão (scatter plot).\n",
    "\n",
    "Nota: Para simplificar, utilizaremos a primeira coordenada encontrada para cada CEP (ou uma média se já pré-calculada no enriquecimento dos dados) como representativa da localização."
   ]
  },
  {
   "cell_type": "code",
   "execution_count": 24,
   "id": "0121f868-7344-4c4c-bc71-f467cb1a68b7",
   "metadata": {},
   "outputs": [
    {
     "data": {
      "text/plain": [
       "Index(['customer_id', 'customer_unique_id', 'customer_zip_code_prefix',\n",
       "       'customer_city', 'customer_state', 'geolocation_zip_code_prefix',\n",
       "       'customer_lat', 'customer_lng'],\n",
       "      dtype='object')"
      ]
     },
     "execution_count": 24,
     "metadata": {},
     "output_type": "execute_result"
    }
   ],
   "source": [
    "customers.columns"
   ]
  },
  {
   "cell_type": "code",
   "execution_count": 25,
   "id": "e49bbc7f-c1fc-447d-a012-1dbede2449d3",
   "metadata": {},
   "outputs": [
    {
     "data": {
      "text/plain": [
       "Index(['geolocation_zip_code_prefix', 'geolocation_lat', 'geolocation_lng',\n",
       "       'geolocation_city', 'geolocation_state'],\n",
       "      dtype='object')"
      ]
     },
     "execution_count": 25,
     "metadata": {},
     "output_type": "execute_result"
    }
   ],
   "source": [
    "geolocation.columns"
   ]
  },
  {
   "cell_type": "code",
   "execution_count": 26,
   "id": "44560e47-6a15-42f7-b74f-47ec004a7a8d",
   "metadata": {},
   "outputs": [
    {
     "data": {
      "text/plain": [
       "Index(['order_id', 'order_item_id', 'product_id', 'seller_id',\n",
       "       'shipping_limit_date', 'price', 'freight_value',\n",
       "       'product_category_name', 'product_name_lenght',\n",
       "       'product_description_lenght', 'product_photos_qty', 'product_weight_g',\n",
       "       'product_length_cm', 'product_height_cm', 'product_width_cm',\n",
       "       'product_category_name_english', 'seller_zip_code_prefix',\n",
       "       'seller_city', 'seller_state', 'geolocation_zip_code_prefix',\n",
       "       'seller_lat', 'seller_lng'],\n",
       "      dtype='object')"
      ]
     },
     "execution_count": 26,
     "metadata": {},
     "output_type": "execute_result"
    }
   ],
   "source": [
    "order_items.columns"
   ]
  },
  {
   "cell_type": "code",
   "execution_count": 27,
   "id": "2e050830-e9ac-4d61-9baa-19cc9ad6211a",
   "metadata": {},
   "outputs": [
    {
     "data": {
      "text/html": [
       "<div>\n",
       "<style scoped>\n",
       "    .dataframe tbody tr th:only-of-type {\n",
       "        vertical-align: middle;\n",
       "    }\n",
       "\n",
       "    .dataframe tbody tr th {\n",
       "        vertical-align: top;\n",
       "    }\n",
       "\n",
       "    .dataframe thead th {\n",
       "        text-align: right;\n",
       "    }\n",
       "</style>\n",
       "<table border=\"1\" class=\"dataframe\">\n",
       "  <thead>\n",
       "    <tr style=\"text-align: right;\">\n",
       "      <th></th>\n",
       "      <th>order_id</th>\n",
       "      <th>order_item_id</th>\n",
       "      <th>product_id</th>\n",
       "      <th>seller_id</th>\n",
       "      <th>shipping_limit_date</th>\n",
       "      <th>price</th>\n",
       "      <th>freight_value</th>\n",
       "      <th>product_category_name</th>\n",
       "      <th>product_name_lenght</th>\n",
       "      <th>product_description_lenght</th>\n",
       "      <th>...</th>\n",
       "      <th>product_length_cm</th>\n",
       "      <th>product_height_cm</th>\n",
       "      <th>product_width_cm</th>\n",
       "      <th>product_category_name_english</th>\n",
       "      <th>seller_zip_code_prefix</th>\n",
       "      <th>seller_city</th>\n",
       "      <th>seller_state</th>\n",
       "      <th>geolocation_zip_code_prefix</th>\n",
       "      <th>seller_lat</th>\n",
       "      <th>seller_lng</th>\n",
       "    </tr>\n",
       "  </thead>\n",
       "  <tbody>\n",
       "    <tr>\n",
       "      <th>0</th>\n",
       "      <td>00010242fe8c5a6d1ba2dd792cb16214</td>\n",
       "      <td>1</td>\n",
       "      <td>4244733e06e7ecb4970a6e2683c13e61</td>\n",
       "      <td>48436dade18ac8b2bce089ec2a041202</td>\n",
       "      <td>2017-09-19 09:45:35</td>\n",
       "      <td>58.90</td>\n",
       "      <td>13.29</td>\n",
       "      <td>cool_stuff</td>\n",
       "      <td>58.0</td>\n",
       "      <td>598.0</td>\n",
       "      <td>...</td>\n",
       "      <td>28.0</td>\n",
       "      <td>9.0</td>\n",
       "      <td>14.0</td>\n",
       "      <td>cool_stuff</td>\n",
       "      <td>27277</td>\n",
       "      <td>volta redonda</td>\n",
       "      <td>SP</td>\n",
       "      <td>27277.0</td>\n",
       "      <td>-22.497188</td>\n",
       "      <td>-44.127324</td>\n",
       "    </tr>\n",
       "    <tr>\n",
       "      <th>1</th>\n",
       "      <td>00018f77f2f0320c557190d7a144bdd3</td>\n",
       "      <td>1</td>\n",
       "      <td>e5f2d52b802189ee658865ca93d83a8f</td>\n",
       "      <td>dd7ddc04e1b6c2c614352b383efe2d36</td>\n",
       "      <td>2017-05-03 11:05:13</td>\n",
       "      <td>239.90</td>\n",
       "      <td>19.93</td>\n",
       "      <td>pet_shop</td>\n",
       "      <td>56.0</td>\n",
       "      <td>239.0</td>\n",
       "      <td>...</td>\n",
       "      <td>50.0</td>\n",
       "      <td>30.0</td>\n",
       "      <td>40.0</td>\n",
       "      <td>pet_shop</td>\n",
       "      <td>3471</td>\n",
       "      <td>sao paulo</td>\n",
       "      <td>SP</td>\n",
       "      <td>3471.0</td>\n",
       "      <td>-23.565754</td>\n",
       "      <td>-46.519097</td>\n",
       "    </tr>\n",
       "    <tr>\n",
       "      <th>2</th>\n",
       "      <td>000229ec398224ef6ca0657da4fc703e</td>\n",
       "      <td>1</td>\n",
       "      <td>c777355d18b72b67abbeef9df44fd0fd</td>\n",
       "      <td>5b51032eddd242adc84c38acab88f23d</td>\n",
       "      <td>2018-01-18 14:48:30</td>\n",
       "      <td>199.00</td>\n",
       "      <td>17.87</td>\n",
       "      <td>moveis_decoracao</td>\n",
       "      <td>59.0</td>\n",
       "      <td>695.0</td>\n",
       "      <td>...</td>\n",
       "      <td>33.0</td>\n",
       "      <td>13.0</td>\n",
       "      <td>33.0</td>\n",
       "      <td>furniture_decor</td>\n",
       "      <td>37564</td>\n",
       "      <td>borda da mata</td>\n",
       "      <td>MG</td>\n",
       "      <td>37564.0</td>\n",
       "      <td>-22.262802</td>\n",
       "      <td>-46.170735</td>\n",
       "    </tr>\n",
       "    <tr>\n",
       "      <th>3</th>\n",
       "      <td>00024acbcdf0a6daa1e931b038114c75</td>\n",
       "      <td>1</td>\n",
       "      <td>7634da152a4610f1595efa32f14722fc</td>\n",
       "      <td>9d7a1d34a5052409006425275ba1c2b4</td>\n",
       "      <td>2018-08-15 10:10:18</td>\n",
       "      <td>12.99</td>\n",
       "      <td>12.79</td>\n",
       "      <td>perfumaria</td>\n",
       "      <td>42.0</td>\n",
       "      <td>480.0</td>\n",
       "      <td>...</td>\n",
       "      <td>16.0</td>\n",
       "      <td>10.0</td>\n",
       "      <td>15.0</td>\n",
       "      <td>perfumery</td>\n",
       "      <td>14403</td>\n",
       "      <td>franca</td>\n",
       "      <td>SP</td>\n",
       "      <td>14403.0</td>\n",
       "      <td>-20.553651</td>\n",
       "      <td>-47.387145</td>\n",
       "    </tr>\n",
       "    <tr>\n",
       "      <th>4</th>\n",
       "      <td>00042b26cf59d7ce69dfabb4e55b4fd9</td>\n",
       "      <td>1</td>\n",
       "      <td>ac6c3623068f30de03045865e4e10089</td>\n",
       "      <td>df560393f3a51e74553ab94004ba5c87</td>\n",
       "      <td>2017-02-13 13:57:51</td>\n",
       "      <td>199.90</td>\n",
       "      <td>18.14</td>\n",
       "      <td>ferramentas_jardim</td>\n",
       "      <td>59.0</td>\n",
       "      <td>409.0</td>\n",
       "      <td>...</td>\n",
       "      <td>35.0</td>\n",
       "      <td>40.0</td>\n",
       "      <td>30.0</td>\n",
       "      <td>garden_tools</td>\n",
       "      <td>87900</td>\n",
       "      <td>loanda</td>\n",
       "      <td>PR</td>\n",
       "      <td>87900.0</td>\n",
       "      <td>-22.929583</td>\n",
       "      <td>-53.135750</td>\n",
       "    </tr>\n",
       "  </tbody>\n",
       "</table>\n",
       "<p>5 rows × 22 columns</p>\n",
       "</div>"
      ],
      "text/plain": [
       "                           order_id  order_item_id  \\\n",
       "0  00010242fe8c5a6d1ba2dd792cb16214              1   \n",
       "1  00018f77f2f0320c557190d7a144bdd3              1   \n",
       "2  000229ec398224ef6ca0657da4fc703e              1   \n",
       "3  00024acbcdf0a6daa1e931b038114c75              1   \n",
       "4  00042b26cf59d7ce69dfabb4e55b4fd9              1   \n",
       "\n",
       "                         product_id                         seller_id  \\\n",
       "0  4244733e06e7ecb4970a6e2683c13e61  48436dade18ac8b2bce089ec2a041202   \n",
       "1  e5f2d52b802189ee658865ca93d83a8f  dd7ddc04e1b6c2c614352b383efe2d36   \n",
       "2  c777355d18b72b67abbeef9df44fd0fd  5b51032eddd242adc84c38acab88f23d   \n",
       "3  7634da152a4610f1595efa32f14722fc  9d7a1d34a5052409006425275ba1c2b4   \n",
       "4  ac6c3623068f30de03045865e4e10089  df560393f3a51e74553ab94004ba5c87   \n",
       "\n",
       "  shipping_limit_date   price  freight_value product_category_name  \\\n",
       "0 2017-09-19 09:45:35   58.90          13.29            cool_stuff   \n",
       "1 2017-05-03 11:05:13  239.90          19.93              pet_shop   \n",
       "2 2018-01-18 14:48:30  199.00          17.87      moveis_decoracao   \n",
       "3 2018-08-15 10:10:18   12.99          12.79            perfumaria   \n",
       "4 2017-02-13 13:57:51  199.90          18.14    ferramentas_jardim   \n",
       "\n",
       "   product_name_lenght  product_description_lenght  ...  product_length_cm  \\\n",
       "0                 58.0                       598.0  ...               28.0   \n",
       "1                 56.0                       239.0  ...               50.0   \n",
       "2                 59.0                       695.0  ...               33.0   \n",
       "3                 42.0                       480.0  ...               16.0   \n",
       "4                 59.0                       409.0  ...               35.0   \n",
       "\n",
       "   product_height_cm  product_width_cm  product_category_name_english  \\\n",
       "0                9.0              14.0                     cool_stuff   \n",
       "1               30.0              40.0                       pet_shop   \n",
       "2               13.0              33.0                furniture_decor   \n",
       "3               10.0              15.0                      perfumery   \n",
       "4               40.0              30.0                   garden_tools   \n",
       "\n",
       "   seller_zip_code_prefix    seller_city  seller_state  \\\n",
       "0                   27277  volta redonda            SP   \n",
       "1                    3471      sao paulo            SP   \n",
       "2                   37564  borda da mata            MG   \n",
       "3                   14403         franca            SP   \n",
       "4                   87900         loanda            PR   \n",
       "\n",
       "  geolocation_zip_code_prefix seller_lat  seller_lng  \n",
       "0                     27277.0 -22.497188  -44.127324  \n",
       "1                      3471.0 -23.565754  -46.519097  \n",
       "2                     37564.0 -22.262802  -46.170735  \n",
       "3                     14403.0 -20.553651  -47.387145  \n",
       "4                     87900.0 -22.929583  -53.135750  \n",
       "\n",
       "[5 rows x 22 columns]"
      ]
     },
     "execution_count": 27,
     "metadata": {},
     "output_type": "execute_result"
    }
   ],
   "source": [
    "order_items.head()"
   ]
  },
  {
   "cell_type": "code",
   "execution_count": 28,
   "id": "bad9e08c-9dde-420f-8a15-103ac9008458",
   "metadata": {},
   "outputs": [],
   "source": [
    "# adicionar customer_id em order_items através de orders\n",
    "order_items = order_items.merge(orders[['order_id','customer_id']], on='order_id', how='left')\n",
    "# agora unir com customers para trazer dados do cliente (ex: CEP, cidade, estado)\n",
    "order_items = order_items.merge(customers[['customer_id','customer_zip_code_prefix','customer_city','customer_state']], \n",
    "                                on='customer_id', how='left')\n"
   ]
  },
  {
   "cell_type": "code",
   "execution_count": 29,
   "id": "cb7ec4b2-4866-4b56-8d42-71e71522554a",
   "metadata": {},
   "outputs": [
    {
     "data": {
      "text/plain": [
       "Index(['order_id', 'order_item_id', 'product_id', 'seller_id',\n",
       "       'shipping_limit_date', 'price', 'freight_value',\n",
       "       'product_category_name', 'product_name_lenght',\n",
       "       'product_description_lenght', 'product_photos_qty', 'product_weight_g',\n",
       "       'product_length_cm', 'product_height_cm', 'product_width_cm',\n",
       "       'product_category_name_english', 'seller_zip_code_prefix',\n",
       "       'seller_city', 'seller_state', 'geolocation_zip_code_prefix',\n",
       "       'seller_lat', 'seller_lng', 'customer_id', 'customer_zip_code_prefix',\n",
       "       'customer_city', 'customer_state'],\n",
       "      dtype='object')"
      ]
     },
     "execution_count": 29,
     "metadata": {},
     "output_type": "execute_result"
    }
   ],
   "source": [
    "order_items.columns"
   ]
  },
  {
   "cell_type": "code",
   "execution_count": 30,
   "id": "68e36ffc-9f76-48cd-b4c1-da9abe15e1cd",
   "metadata": {},
   "outputs": [],
   "source": [
    "# unir com geolocation para obter latitude/longitude do CEP do cliente\n",
    "order_items = order_items.merge(geolocation[['geolocation_zip_code_prefix','geolocation_lat','geolocation_lng']], on='geolocation_zip_code_prefix', how='left')\n"
   ]
  },
  {
   "cell_type": "code",
   "execution_count": 31,
   "id": "e5404962-5b92-42f2-b9c7-efcdc7a2392f",
   "metadata": {},
   "outputs": [
    {
     "data": {
      "text/plain": [
       "Index(['order_id', 'order_item_id', 'product_id', 'seller_id',\n",
       "       'shipping_limit_date', 'price', 'freight_value',\n",
       "       'product_category_name', 'product_name_lenght',\n",
       "       'product_description_lenght', 'product_photos_qty', 'product_weight_g',\n",
       "       'product_length_cm', 'product_height_cm', 'product_width_cm',\n",
       "       'product_category_name_english', 'seller_zip_code_prefix',\n",
       "       'seller_city', 'seller_state', 'geolocation_zip_code_prefix',\n",
       "       'seller_lat', 'seller_lng', 'customer_id', 'customer_zip_code_prefix',\n",
       "       'customer_city', 'customer_state', 'geolocation_lat',\n",
       "       'geolocation_lng'],\n",
       "      dtype='object')"
      ]
     },
     "execution_count": 31,
     "metadata": {},
     "output_type": "execute_result"
    }
   ],
   "source": [
    "order_items.columns"
   ]
  },
  {
   "cell_type": "markdown",
   "id": "5bbb5d4c-e325-4b10-8d9e-7cbe01d8f839",
   "metadata": {},
   "source": [
    "Index(['order_id', 'order_item_id', 'product_id', 'seller_id',\n",
    "       'shipping_limit_date', 'price', 'freight_value',\n",
    "       'product_category_name', 'product_name_lenght',\n",
    "       'product_description_lenght', 'product_photos_qty', 'product_weight_g',\n",
    "       'product_length_cm', 'product_height_cm', 'product_width_cm',\n",
    "       'product_category_name_english', 'seller_zip_code_prefix',\n",
    "       'seller_city', 'seller_state', 'geolocation_zip_code_prefix',\n",
    "       'seller_lat', 'seller_lng', 'customer_id', 'customer_zip_code_prefix',\n",
    "       'customer_city', 'customer_state', 'geolocation_lat',\n",
    "       'geolocation_lng'],\n",
    "      dtype='object')"
   ]
  },
  {
   "cell_type": "code",
   "execution_count": 32,
   "id": "3109223a-e1b5-45a1-865b-a06033cd2bc9",
   "metadata": {},
   "outputs": [],
   "source": [
    "# 3. Cálculo da distância entre vendedor e cliente para cada item do pedido\n",
    "\n",
    "import numpy as np\n",
    "\n",
    "# Vamos precisar das coordenadas (lat, lng) por CEP. \n",
    "# Criaremos dataframes auxiliares para mapear cep -> (lat, lng) para clientes e vendedores.\n",
    "# Primeiro, agregamos o geolocation para ter um CEP único com média de lat/lng (caso haja múltiplos registros por CEP).\n",
    "geo_coords = geolocation.groupby('geolocation_zip_code_prefix').agg({\n",
    "    'geolocation_lat': 'mean',\n",
    "    'geolocation_lng': 'mean'\n",
    "}).reset_index()\n",
    "geo_coords.rename(columns={'geolocation_zip_code_prefix': 'zip_code'}, inplace=True)\n",
    "\n"
   ]
  },
  {
   "cell_type": "code",
   "execution_count": 33,
   "id": "a41dad73-73b0-4fa0-b941-ac6506de5afa",
   "metadata": {},
   "outputs": [
    {
     "data": {
      "text/plain": [
       "Index(['zip_code', 'geolocation_lat', 'geolocation_lng'], dtype='object')"
      ]
     },
     "execution_count": 33,
     "metadata": {},
     "output_type": "execute_result"
    }
   ],
   "source": [
    "geo_coords.columns"
   ]
  },
  {
   "cell_type": "code",
   "execution_count": 34,
   "id": "122e222e-2772-42a3-b73f-85b56f06e718",
   "metadata": {},
   "outputs": [
    {
     "data": {
      "text/plain": [
       "Index(['order_id', 'order_item_id', 'product_id', 'seller_id',\n",
       "       'shipping_limit_date', 'price', 'freight_value',\n",
       "       'product_category_name', 'product_name_lenght',\n",
       "       'product_description_lenght', 'product_photos_qty', 'product_weight_g',\n",
       "       'product_length_cm', 'product_height_cm', 'product_width_cm',\n",
       "       'product_category_name_english', 'seller_zip_code_prefix',\n",
       "       'seller_city', 'seller_state', 'geolocation_zip_code_prefix',\n",
       "       'seller_lat', 'seller_lng', 'customer_id', 'customer_zip_code_prefix',\n",
       "       'customer_city', 'customer_state', 'geolocation_lat',\n",
       "       'geolocation_lng'],\n",
       "      dtype='object')"
      ]
     },
     "execution_count": 34,
     "metadata": {},
     "output_type": "execute_result"
    }
   ],
   "source": [
    "order_items.columns"
   ]
  },
  {
   "cell_type": "code",
   "execution_count": 35,
   "id": "fa1dc873-ec20-4cac-a2e0-0fd6d2af9147",
   "metadata": {},
   "outputs": [],
   "source": [
    "order_items.rename(columns={'geolocation_lat': 'customer_lat',\n",
    "                   'geolocation_lng': 'customer_lng'}, inplace=True)"
   ]
  },
  {
   "cell_type": "code",
   "execution_count": 36,
   "id": "d6a8564b-79df-4d86-a70e-af53d419bb68",
   "metadata": {},
   "outputs": [
    {
     "data": {
      "text/plain": [
       "Index(['order_id', 'order_item_id', 'product_id', 'seller_id',\n",
       "       'shipping_limit_date', 'price', 'freight_value',\n",
       "       'product_category_name', 'product_name_lenght',\n",
       "       'product_description_lenght', 'product_photos_qty', 'product_weight_g',\n",
       "       'product_length_cm', 'product_height_cm', 'product_width_cm',\n",
       "       'product_category_name_english', 'seller_zip_code_prefix',\n",
       "       'seller_city', 'seller_state', 'geolocation_zip_code_prefix',\n",
       "       'seller_lat', 'seller_lng', 'customer_id', 'customer_zip_code_prefix',\n",
       "       'customer_city', 'customer_state', 'customer_lat', 'customer_lng'],\n",
       "      dtype='object')"
      ]
     },
     "execution_count": 36,
     "metadata": {},
     "output_type": "execute_result"
    }
   ],
   "source": [
    "order_items.columns"
   ]
  },
  {
   "cell_type": "code",
   "execution_count": null,
   "id": "cfe91936-9c9c-42db-b6f5-130da7c7d09d",
   "metadata": {},
   "outputs": [],
   "source": []
  },
  {
   "cell_type": "code",
   "execution_count": null,
   "id": "48a72d1f-d9fd-4b3b-8a8d-0f1f8426d654",
   "metadata": {},
   "outputs": [],
   "source": []
  },
  {
   "cell_type": "code",
   "execution_count": 37,
   "id": "2e05ccf8-ec89-49e3-96ce-57f1eaad2bd6",
   "metadata": {},
   "outputs": [
    {
     "name": "stdout",
     "output_type": "stream",
     "text": [
      "   customer_zip_code_prefix  seller_zip_code_prefix  distance_km  \\\n",
      "0                     28013                   27277   396.934229   \n",
      "1                     28013                   27277  1122.496135   \n",
      "2                     28013                   27277   691.484576   \n",
      "3                     28013                   27277   441.999476   \n",
      "4                     28013                   27277   309.552320   \n",
      "\n",
      "   freight_value  \n",
      "0          13.29  \n",
      "1          13.29  \n",
      "2          13.29  \n",
      "3          13.29  \n",
      "4          13.29  \n"
     ]
    }
   ],
   "source": [
    "import numpy as np\n",
    "\n",
    "# Juntando coordenadas de cliente e vendedor aos dados de itens do pedido\n",
    "# Para isso, unimos: order_items -> customers -> geo (cliente), e order_items -> sellers -> geo (vendedor)\n",
    "order_items_geo = order_items\n",
    "\n",
    "\n",
    "\n",
    "# Raio da Terra em quilômetros\n",
    "R = 6371  \n",
    "\n",
    "# Converte graus para radianos (vetorizado em toda a Series)\n",
    "lat1 = np.radians(order_items_geo['customer_lat'])\n",
    "lon1 = np.radians(order_items_geo['customer_lng'])\n",
    "lat2 = np.radians(order_items_geo['seller_lat'])\n",
    "lon2 = np.radians(order_items_geo['seller_lng'])\n",
    "\n",
    "# Diferenças de coordenadas\n",
    "dlat = lat2 - lat1\n",
    "dlon = lon2 - lon1\n",
    "\n",
    "# Aplicação da fórmula de Haversine de forma vetorizada\n",
    "a = np.sin(dlat/2)**2 + np.cos(lat1) * np.cos(lat2) * np.sin(dlon/2)**2\n",
    "c = 2 * np.arcsin(np.sqrt(a))\n",
    "\n",
    "# Calcula distância e atribui à nova coluna\n",
    "order_items_geo['distance_km'] = (R * c) * 1000\n",
    "\n",
    "\n",
    "# Verificando alguns valores calculados\n",
    "print(order_items_geo[['customer_zip_code_prefix','seller_zip_code_prefix','distance_km','freight_value']].head(5))\n"
   ]
  },
  {
   "cell_type": "markdown",
   "id": "1fb567db-b35e-43ed-87b1-155e7bd7c298",
   "metadata": {},
   "source": [
    "-----------------------\n",
    "No código acima, todas as operações (np.sin, np.cos, etc.) são realizadas em arrays/Series inteiros de uma vez, produzindo um vetor de distâncias. Esse vetor resultante tem o mesmo número de linhas que o DataFrame e pode ser atribuído diretamente a order_items_geo['distance_km'] sem erro. Assim, cada linha da coluna distance_km conterá a distância (em km) entre o cliente e o vendedor correspondentes naquela linha."
   ]
  },
  {
   "cell_type": "code",
   "execution_count": 38,
   "id": "c5187d1c-340c-40bf-8652-d54009536940",
   "metadata": {},
   "outputs": [
    {
     "data": {
      "text/plain": [
       "Index(['order_id', 'order_item_id', 'product_id', 'seller_id',\n",
       "       'shipping_limit_date', 'price', 'freight_value',\n",
       "       'product_category_name', 'product_name_lenght',\n",
       "       'product_description_lenght', 'product_photos_qty', 'product_weight_g',\n",
       "       'product_length_cm', 'product_height_cm', 'product_width_cm',\n",
       "       'product_category_name_english', 'seller_zip_code_prefix',\n",
       "       'seller_city', 'seller_state', 'geolocation_zip_code_prefix',\n",
       "       'seller_lat', 'seller_lng', 'customer_id', 'customer_zip_code_prefix',\n",
       "       'customer_city', 'customer_state', 'customer_lat', 'customer_lng',\n",
       "       'distance_km'],\n",
       "      dtype='object')"
      ]
     },
     "execution_count": 38,
     "metadata": {},
     "output_type": "execute_result"
    }
   ],
   "source": [
    "order_items_geo.columns"
   ]
  },
  {
   "cell_type": "code",
   "execution_count": 39,
   "id": "c669658f-b396-4a31-bd7c-600ad91cc8a0",
   "metadata": {},
   "outputs": [
    {
     "data": {
      "text/plain": [
       "0    13.29\n",
       "1    13.29\n",
       "2    13.29\n",
       "3    13.29\n",
       "4    13.29\n",
       "Name: freight_value, dtype: float64"
      ]
     },
     "execution_count": 39,
     "metadata": {},
     "output_type": "execute_result"
    }
   ],
   "source": [
    "order_items_geo['freight_value'].head()"
   ]
  },
  {
   "cell_type": "code",
   "execution_count": 40,
   "id": "4003381a-044d-4219-9560-f567b02f7cfd",
   "metadata": {},
   "outputs": [
    {
     "data": {
      "text/plain": [
       "count    1.204439e+07\n",
       "mean     1.998031e+01\n",
       "std      1.507611e+01\n",
       "min      0.000000e+00\n",
       "25%      1.340000e+01\n",
       "50%      1.634000e+01\n",
       "75%      2.099000e+01\n",
       "max      4.096800e+02\n",
       "Name: freight_value, dtype: float64"
      ]
     },
     "execution_count": 40,
     "metadata": {},
     "output_type": "execute_result"
    }
   ],
   "source": [
    "order_items_geo['freight_value'].describe()"
   ]
  },
  {
   "cell_type": "code",
   "execution_count": 41,
   "id": "c943e022-5c58-4dea-9cab-a4352671091c",
   "metadata": {},
   "outputs": [
    {
     "data": {
      "text/plain": [
       "count    1.204439e+07\n",
       "mean     1.064098e+03\n",
       "std      6.340619e+03\n",
       "min      0.000000e+00\n",
       "25%      4.168235e+02\n",
       "50%      7.305807e+02\n",
       "75%      1.174266e+03\n",
       "max      3.015698e+06\n",
       "Name: distance_km, dtype: float64"
      ]
     },
     "execution_count": 41,
     "metadata": {},
     "output_type": "execute_result"
    }
   ],
   "source": [
    "order_items_geo['distance_km'].describe()"
   ]
  },
  {
   "cell_type": "code",
   "execution_count": 42,
   "id": "c92a7c11-e284-4477-9014-07ed4be63056",
   "metadata": {},
   "outputs": [
    {
     "data": {
      "text/plain": [
       "0     396.934229\n",
       "1    1122.496135\n",
       "2     691.484576\n",
       "3     441.999476\n",
       "4     309.552320\n",
       "Name: distance_km, dtype: float64"
      ]
     },
     "execution_count": 42,
     "metadata": {},
     "output_type": "execute_result"
    }
   ],
   "source": [
    "order_items_geo['distance_km'].head()"
   ]
  },
  {
   "cell_type": "code",
   "execution_count": 43,
   "id": "d38a6687-78da-4c5e-8686-2ac25a1c9335",
   "metadata": {},
   "outputs": [],
   "source": [
    "# mantenha apenas linhas com ambas as colunas válidas\n",
    "df = order_items_geo[['distance_km', 'freight_value']].dropna()\n",
    "\n",
    "# (opcional) remova outliers extremos se houver erros de digitação:\n",
    "q_low, q_hi = df['freight_value'].quantile([0.01, 0.99])\n",
    "df = df[(df['freight_value'] >= q_low) & (df['freight_value'] <= q_hi)]\n"
   ]
  },
  {
   "cell_type": "code",
   "execution_count": 44,
   "id": "7acd8692-24c6-4af1-9f9c-1be1cacefb08",
   "metadata": {},
   "outputs": [
    {
     "name": "stdout",
     "output_type": "stream",
     "text": [
      "Correlação de Pearson : 0.008\n",
      "Correlação de Spearman: 0.066\n"
     ]
    }
   ],
   "source": [
    "# Medir correlações numéricas\n",
    "\n",
    "pearson  = df['distance_km'].corr(df['freight_value'], method='pearson')\n",
    "spearman = df['distance_km'].corr(df['freight_value'], method='spearman')\n",
    "\n",
    "print(f'Correlação de Pearson : {pearson:.3f}')\n",
    "print(f'Correlação de Spearman: {spearman:.3f}')\n"
   ]
  },
  {
   "cell_type": "markdown",
   "id": "7e252df7-3f1c-4b74-abc4-12f9da2dfcbd",
   "metadata": {},
   "source": [
    "Entre 0,0–0,19 , força muito fraca."
   ]
  },
  {
   "cell_type": "code",
   "execution_count": 45,
   "id": "adcd6cc9-2828-481d-8096-8eb759502c89",
   "metadata": {},
   "outputs": [
    {
     "data": {
      "image/png": "[encoded data removed]",
      "text/plain": [
       "<Figure size 640x480 with 1 Axes>"
      ]
     },
     "metadata": {},
     "output_type": "display_data"
    }
   ],
   "source": [
    "import matplotlib.pyplot as plt\n",
    "import numpy as np\n",
    "\n",
    "plt.scatter(df['distance_km'], df['freight_value'], alpha=0.15, s=10)\n",
    "# linha de tendência simples:\n",
    "m, b = np.polyfit(df['distance_km'], df['freight_value'], 1)   # y = m*x + b\n",
    "x = np.linspace(df['distance_km'].min(), df['distance_km'].max(), 100)\n",
    "plt.plot(x, m*x + b, lw=2)\n",
    "\n",
    "plt.xlabel('Distância (km)')\n",
    "plt.ylabel('Frete (R$)')\n",
    "plt.title('Frete x Distância')\n",
    "plt.tight_layout()\n",
    "plt.show()\n"
   ]
  },
  {
   "cell_type": "markdown",
   "id": "1df96963-4d4f-4cde-9741-fe47611f04d5",
   "metadata": {},
   "source": [
    "## c) Qual a relação entre o valor do frete e a distância de entrega?\n",
    "\n",
    "R: De acordo com a linha de tendência, quanto maior a distância maior o frete."
   ]
  },
  {
   "cell_type": "markdown",
   "id": "fb109903-9192-4ada-affc-3ad4811aa2e8",
   "metadata": {},
   "source": [
    "## D) Categorias de produtos mais vendidas (faturamento)\n"
   ]
  },
  {
   "cell_type": "code",
   "execution_count": 46,
   "id": "eca0504a-71a1-456f-8f10-f078955b819b",
   "metadata": {},
   "outputs": [
    {
     "name": "stdout",
     "output_type": "stream",
     "text": [
      "Top 10 categorias por faturamento:\n",
      "                category  total_revenue\n",
      "0          health_beauty     1230722.08\n",
      "1          watches_gifts     1160119.98\n",
      "2         bed_bath_table     1021465.37\n",
      "3         sports_leisure      953573.74\n",
      "4  computers_accessories      884084.22\n",
      "5        furniture_decor      710407.24\n",
      "6             housewares      614011.71\n",
      "7             cool_stuff      603576.74\n",
      "8                   auto      577637.44\n",
      "9           garden_tools      467952.38\n"
     ]
    }
   ],
   "source": [
    "# 4. Consulta SQL para faturamento por categoria de produto\n",
    "query = \"\"\"\n",
    "SELECT \n",
    "    ct.product_category_name_english AS category,\n",
    "    SUM(oi.price) AS total_revenue\n",
    "FROM order_items oi\n",
    "JOIN products p \n",
    "    ON oi.product_id = p.product_id\n",
    "LEFT JOIN category_translation ct \n",
    "    ON p.product_category_name = ct.product_category_name\n",
    "GROUP BY ct.product_category_name_english\n",
    "ORDER BY total_revenue DESC\n",
    "LIMIT 10;\n",
    "\"\"\"\n",
    "top_categories = pd.read_sql_query(query, conn)\n",
    "print(\"Top 10 categorias por faturamento:\")\n",
    "print(top_categories)\n"
   ]
  },
  {
   "cell_type": "markdown",
   "id": "1f262651-6ea4-4321-b290-428988114e2f",
   "metadata": {},
   "source": [
    "Agora podemos visualizar os resultados em um gráfico de barras para melhor comunicar quais categorias são destaque em vendas.\n"
   ]
  },
  {
   "cell_type": "code",
   "execution_count": 47,
   "id": "5d6ac368-c8e9-45c1-a89b-78787a36937e",
   "metadata": {},
   "outputs": [
    {
     "name": "stderr",
     "output_type": "stream",
     "text": [
      "/tmp/ipykernel_293250/3340897056.py:3: FutureWarning: \n",
      "\n",
      "Passing `palette` without assigning `hue` is deprecated and will be removed in v0.14.0. Assign the `y` variable to `hue` and set `legend=False` for the same effect.\n",
      "\n",
      "  sns.barplot(data=top_categories, x='total_revenue', y='category', palette='Blues_r')\n"
     ]
    },
    {
     "data": {
      "image/png": "[encoded data removed]",
      "text/plain": [
       "<Figure size 1000x600 with 1 Axes>"
      ]
     },
     "metadata": {},
     "output_type": "display_data"
    }
   ],
   "source": [
    "# 4. Visualização das categorias com maior faturamento\n",
    "plt.figure(figsize=(10,6))\n",
    "sns.barplot(data=top_categories, x='total_revenue', y='category', palette='Blues_r')\n",
    "plt.title('Top 10 Categorias por Faturamento')\n",
    "plt.xlabel('Faturamento Total (soma de preços vendidos) - R$')\n",
    "plt.ylabel('Categoria de Produto')\n",
    "plt.show()\n"
   ]
  },
  {
   "cell_type": "markdown",
   "id": "c43a961e-327c-47d3-8c45-edfa2dd9071b",
   "metadata": {},
   "source": [
    "Acima as 10 categorias mais vendidas com liderança de Health & Beauty em faturamento indica que produtos de beleza, higiene e saúde têm alta demanda e contribuem significativamente para as vendas totais."
   ]
  },
  {
   "cell_type": "markdown",
   "id": "d06390a5-f27b-445a-8bf0-ea28e855f3d6",
   "metadata": {},
   "source": [
    "## E) Valor médio de pedido por estado (ticket médio)\n"
   ]
  },
  {
   "cell_type": "code",
   "execution_count": 48,
   "id": "85396cc6-588b-435a-b27a-b6f9df1f1385",
   "metadata": {},
   "outputs": [
    {
     "name": "stdout",
     "output_type": "stream",
     "text": [
      "Valor médio do pedido por estado (ordenado do maior para o menor):\n",
      "  state  avg_order_value\n",
      "0    PB       265.973053\n",
      "1    AC       244.935570\n",
      "2    AP       240.922537\n",
      "3    AL       238.115051\n",
      "4    RO       235.182958\n"
     ]
    }
   ],
   "source": [
    "# 5. Consulta SQL para valor médio do pedido por estado\n",
    "query = \"\"\"\n",
    "SELECT \n",
    "    c.customer_state AS state,\n",
    "    AVG(order_total) AS avg_order_value\n",
    "FROM (\n",
    "    -- subconsulta para calcular valor total de cada pedido\n",
    "    SELECT o.order_id,\n",
    "           SUM(oi.price + oi.freight_value) AS order_total,\n",
    "           o.customer_id\n",
    "    FROM orders o\n",
    "    JOIN order_items oi ON o.order_id = oi.order_id\n",
    "    WHERE o.order_status = 'delivered'\n",
    "    GROUP BY o.order_id\n",
    ") AS order_totals\n",
    "JOIN customers c ON order_totals.customer_id = c.customer_id\n",
    "GROUP BY c.customer_state\n",
    "ORDER BY avg_order_value DESC;\n",
    "\"\"\"\n",
    "avg_order_by_state = pd.read_sql_query(query, conn)\n",
    "print(\"Valor médio do pedido por estado (ordenado do maior para o menor):\")\n",
    "print(avg_order_by_state.head(5))\n"
   ]
  },
  {
   "cell_type": "code",
   "execution_count": 49,
   "id": "0e86d938-9daa-4552-9885-e0c1ce4722fb",
   "metadata": {},
   "outputs": [
    {
     "name": "stderr",
     "output_type": "stream",
     "text": [
      "/tmp/ipykernel_293250/1963614005.py:5: FutureWarning: \n",
      "\n",
      "Passing `palette` without assigning `hue` is deprecated and will be removed in v0.14.0. Assign the `y` variable to `hue` and set `legend=False` for the same effect.\n",
      "\n",
      "  sns.barplot(data=top_states, x='avg_order_value', y='state', palette='Greens_r')\n"
     ]
    },
    {
     "data": {
      "image/png": "[encoded data removed]",
      "text/plain": [
       "<Figure size 800x500 with 1 Axes>"
      ]
     },
     "metadata": {},
     "output_type": "display_data"
    }
   ],
   "source": [
    "# 5. Visualização do ticket médio por estado (top 5 para clareza)\n",
    "top_states = avg_order_by_state.head(5)\n",
    "\n",
    "plt.figure(figsize=(8,5))\n",
    "sns.barplot(data=top_states, x='avg_order_value', y='state', palette='Greens_r')\n",
    "plt.title('Top 5 Estados - Maior Ticket Médio')\n",
    "plt.xlabel('Valor Médio por Pedido (R$)')\n",
    "plt.ylabel('Estado')\n",
    "plt.show()\n",
    "\n",
    "# (Opcional: se quisermos ver todos os estados, podemos plotar todos, \n",
    "# porém seria um gráfico muito longo; aqui focamos nos maiores valores)\n"
   ]
  },
  {
   "cell_type": "markdown",
   "id": "60c30f8a-8b6f-4162-991c-1d811efd39a8",
   "metadata": {},
   "source": [
    "O Estado com maior valor médio foi a Paraíba. Seguido do Acre, Amapá, Alagoas e Rondônia. "
   ]
  },
  {
   "cell_type": "markdown",
   "id": "2d764cef-87b1-42a2-b1ca-05a407a3cbce",
   "metadata": {},
   "source": [
    "### Conclusão\n",
    "Nesta análise exploratória, exploramos diversas facetas dos dados de vendas da Olist:\n",
    "* Vimos um crescimento nas vendas mensais e identificamos picos sazonais claros no fim de ano, especialmente devido à Black Friday e Natal.\n",
    "* Analisamos que o tempo de entrega dos pedidos geralmente fica dentro de 1-2 semanas, embora com alguns outliers significativos; isso destaca a importância de aprimorar a logística para os casos de entregas muito demoradas.\n",
    "* Confirmamos que existe uma correlação positiva entre distância e frete: entregas mais distantes tendem a custar fretes maiores, embora outros fatores também influenciem o custo de envio.\n",
    "* Identificamos as categorias de produto campeãs de faturamento, com destaque para segmentos como Beleza/Saúde e Cama/Mesa/Banho, entre outros, indicando onde a plataforma gera mais receita.\n",
    "* Por fim, observamos diferenças no ticket médio por estado."
   ]
  },
  {
   "cell_type": "markdown",
   "id": "67c46633-ba77-419c-b530-12821ebd5e79",
   "metadata": {},
   "source": [
    "## Parte 3: Solução de Problemas de Negócio\n",
    "1. Análise de Retenção\n",
    "\n",
    "A retenção de clientes é fundamental para o crescimento sustentável do e-commerce. Para mensurar a fidelização, calculamos a taxa de clientes recorrentes – ou seja, aqueles que realizaram mais de um pedido. Em seguida, visualizamos a proporção de clientes recorrentes versus clientes não recorrentes.\n"
   ]
  },
  {
   "cell_type": "code",
   "execution_count": 50,
   "id": "ba03dcd1-285c-4c96-8970-b45ec1caa2b7",
   "metadata": {},
   "outputs": [
    {
     "data": {
      "text/plain": [
       "Index(['order_id', 'order_item_id', 'product_id', 'seller_id',\n",
       "       'shipping_limit_date', 'price', 'freight_value',\n",
       "       'product_category_name', 'product_name_lenght',\n",
       "       'product_description_lenght', 'product_photos_qty', 'product_weight_g',\n",
       "       'product_length_cm', 'product_height_cm', 'product_width_cm',\n",
       "       'product_category_name_english', 'seller_zip_code_prefix',\n",
       "       'seller_city', 'seller_state', 'geolocation_zip_code_prefix',\n",
       "       'seller_lat', 'seller_lng', 'customer_id', 'customer_zip_code_prefix',\n",
       "       'customer_city', 'customer_state', 'customer_lat', 'customer_lng',\n",
       "       'distance_km'],\n",
       "      dtype='object')"
      ]
     },
     "execution_count": 50,
     "metadata": {},
     "output_type": "execute_result"
    }
   ],
   "source": [
    "order_items.columns"
   ]
  },
  {
   "cell_type": "code",
   "execution_count": 51,
   "id": "9aee3feb-315b-4c98-88a3-d056df6328bc",
   "metadata": {},
   "outputs": [
    {
     "data": {
      "text/plain": [
       "Index(['order_id', 'order_item_id', 'product_id', 'seller_id',\n",
       "       'shipping_limit_date', 'price', 'freight_value',\n",
       "       'product_category_name', 'product_name_lenght',\n",
       "       'product_description_lenght', 'product_photos_qty', 'product_weight_g',\n",
       "       'product_length_cm', 'product_height_cm', 'product_width_cm',\n",
       "       'product_category_name_english', 'seller_zip_code_prefix',\n",
       "       'seller_city', 'seller_state', 'geolocation_zip_code_prefix',\n",
       "       'seller_lat', 'seller_lng', 'customer_id', 'customer_zip_code_prefix',\n",
       "       'customer_city', 'customer_state', 'customer_lat', 'customer_lng',\n",
       "       'distance_km'],\n",
       "      dtype='object')"
      ]
     },
     "execution_count": 51,
     "metadata": {},
     "output_type": "execute_result"
    }
   ],
   "source": [
    "order_items_geo.columns"
   ]
  },
  {
   "cell_type": "code",
   "execution_count": 52,
   "id": "a446f8e5-5b8e-42d5-bfc0-440c1423a831",
   "metadata": {},
   "outputs": [
    {
     "name": "stdout",
     "output_type": "stream",
     "text": [
      "Taxa de clientes recorrentes: 0.00%\n"
     ]
    },
    {
     "data": {
      "image/png": "[encoded data removed]",
      "text/plain": [
       "<Figure size 600x600 with 1 Axes>"
      ]
     },
     "metadata": {},
     "output_type": "display_data"
    }
   ],
   "source": [
    "import pandas as pd\n",
    "import matplotlib.pyplot as plt\n",
    "\n",
    "# Supondo que os DataFrames foram carregados: orders, order_items, order_payments etc.\n",
    "\n",
    "# 1) Contar número de pedidos por cliente\n",
    "customer_order_counts = orders.groupby('customer_id')['order_id'].nunique()\n",
    "\n",
    "# 2) Identificar clientes recorrentes (>=2 pedidos)\n",
    "recurring_customers = (customer_order_counts > 1).sum()\n",
    "total_customers = customer_order_counts.count()\n",
    "recurrence_rate = recurring_customers / total_customers * 100\n",
    "print(f\"Taxa de clientes recorrentes: {recurrence_rate:.2f}%\")\n",
    "\n",
    "# 3) Gerar gráfico de pizza para visualizar a proporção\n",
    "labels = ['Recorrentes', 'Não Recorrentes']\n",
    "sizes = [recurring_customers, total_customers - recurring_customers]\n",
    "colors = ['#66b3ff', '#ff9999']\n",
    "plt.figure(figsize=(6,6))\n",
    "plt.pie(sizes, labels=labels, colors=colors, autopct='%1.1f%%')\n",
    "plt.title('Clientes Recorrentes vs Não Recorrentes')\n",
    "plt.show()\n"
   ]
  },
  {
   "cell_type": "markdown",
   "id": "8d748769-2a17-40a2-9e31-c95c35ac49ce",
   "metadata": {},
   "source": [
    "Com base nos resultados, concluímos que nenhum dos clientes repete compra. Para aumentar a retenção, é recomendável:\n",
    "\n",
    "* Incentivar programas de fidelidade: oferecer pontos ou descontos progressivos para compras futuras, motivando a volta dos clientes.\n",
    "* Campanhas de reengajamento: enviar e-mails promocionais personalizados a clientes de 1ª compra convidando-os a retornar.\n",
    "* Melhorar a experiência pós-venda: garantir satisfação no atendimento e logística para transformar clientes ocasionais em recorrentes."
   ]
  },
  {
   "cell_type": "markdown",
   "id": "efe87e68-1267-45be-8b67-a05fbf13cd1d",
   "metadata": {},
   "source": [
    "## 3.2 Predição de Atraso de Entrega"
   ]
  },
  {
   "cell_type": "code",
   "execution_count": 53,
   "id": "7dae9847-35b5-42a5-ab0d-205d3bdbaeb4",
   "metadata": {},
   "outputs": [
    {
     "data": {
      "text/plain": [
       "Index(['order_id', 'customer_id', 'order_status', 'order_purchase_timestamp',\n",
       "       'order_approved_at', 'order_delivered_carrier_date',\n",
       "       'order_delivered_customer_date', 'order_estimated_delivery_date',\n",
       "       'customer_unique_id', 'customer_zip_code_prefix', 'customer_city',\n",
       "       'customer_state', 'geolocation_zip_code_prefix', 'customer_lat',\n",
       "       'customer_lng', 'review_score', 'review_comment_message',\n",
       "       'total_payment', 'total_installments'],\n",
       "      dtype='object')"
      ]
     },
     "execution_count": 53,
     "metadata": {},
     "output_type": "execute_result"
    }
   ],
   "source": [
    "orders.columns"
   ]
  },
  {
   "cell_type": "code",
   "execution_count": 54,
   "id": "b659b1cf-817d-4ab7-8d64-df20ad135388",
   "metadata": {},
   "outputs": [
    {
     "data": {
      "text/plain": [
       "Index(['order_id', 'order_item_id', 'product_id', 'seller_id',\n",
       "       'shipping_limit_date', 'price', 'freight_value',\n",
       "       'product_category_name', 'product_name_lenght',\n",
       "       'product_description_lenght', 'product_photos_qty', 'product_weight_g',\n",
       "       'product_length_cm', 'product_height_cm', 'product_width_cm',\n",
       "       'product_category_name_english', 'seller_zip_code_prefix',\n",
       "       'seller_city', 'seller_state', 'geolocation_zip_code_prefix',\n",
       "       'seller_lat', 'seller_lng', 'customer_id', 'customer_zip_code_prefix',\n",
       "       'customer_city', 'customer_state', 'customer_lat', 'customer_lng',\n",
       "       'distance_km'],\n",
       "      dtype='object')"
      ]
     },
     "execution_count": 54,
     "metadata": {},
     "output_type": "execute_result"
    }
   ],
   "source": [
    "order_items.columns"
   ]
  },
  {
   "cell_type": "code",
   "execution_count": 55,
   "id": "b19a29e0-0a0f-4132-a932-0949e76e7132",
   "metadata": {},
   "outputs": [
    {
     "data": {
      "text/plain": [
       "Index(['customer_id', 'customer_unique_id', 'customer_zip_code_prefix',\n",
       "       'customer_city', 'customer_state', 'geolocation_zip_code_prefix',\n",
       "       'customer_lat', 'customer_lng'],\n",
       "      dtype='object')"
      ]
     },
     "execution_count": 55,
     "metadata": {},
     "output_type": "execute_result"
    }
   ],
   "source": [
    "customers.columns"
   ]
  },
  {
   "cell_type": "code",
   "execution_count": null,
   "id": "166ff743-9423-4f01-a24a-104b190a9087",
   "metadata": {},
   "outputs": [],
   "source": []
  },
  {
   "cell_type": "code",
   "execution_count": null,
   "id": "9e23db75-0233-4e74-891b-019d3543eaa0",
   "metadata": {},
   "outputs": [],
   "source": []
  },
  {
   "cell_type": "code",
   "execution_count": 56,
   "id": "7358b9e3-1d95-4472-b091-7e6ffdb8d879",
   "metadata": {},
   "outputs": [
    {
     "name": "stdout",
     "output_type": "stream",
     "text": [
      "Acurácia: 0.9509170667679873\n",
      "\n",
      "Matriz de Confusão:\n",
      "[[26123   484]\n",
      " [  937  1407]]\n",
      "\n",
      "Relatório de Classificação:\n",
      "              precision    recall  f1-score   support\n",
      "\n",
      "           0      0.965     0.982     0.974     26607\n",
      "           1      0.744     0.600     0.664      2344\n",
      "\n",
      "    accuracy                          0.951     28951\n",
      "   macro avg      0.855     0.791     0.819     28951\n",
      "weighted avg      0.947     0.951     0.948     28951\n",
      "\n",
      "\n",
      "Importância das features:\n",
      "delivery_time    0.359263\n",
      "shipping_time    0.300006\n",
      "total_payment    0.108169\n",
      "total_price      0.104559\n",
      "num_items        0.087232\n",
      "state_diff       0.040771\n",
      "dtype: float64\n"
     ]
    }
   ],
   "source": [
    "# ----------------------------------------------------------\n",
    "# PREDIÇÃO DE ATRASO DE ENTREGA  (versão corrigida)\n",
    "# ----------------------------------------------------------\n",
    "import pandas as pd\n",
    "import numpy as np\n",
    "from sklearn.model_selection import train_test_split\n",
    "from sklearn.ensemble import RandomForestClassifier\n",
    "from sklearn.metrics import classification_report, confusion_matrix\n",
    "\n",
    "# 0) Criar dataframe dedicado à modelagem para evitar colunas duplicadas\n",
    "model_df = orders[['order_id',\n",
    "                   'customer_id',\n",
    "                   'order_purchase_timestamp',\n",
    "                   'order_approved_at',\n",
    "                   'order_delivered_customer_date',\n",
    "                   'order_estimated_delivery_date']].copy()\n",
    "\n",
    "# 1) Label 'delayed'  (1 = entregue após estimado, 0 = dentro ou antes)\n",
    "model_df['delayed'] = (\n",
    "    model_df['order_delivered_customer_date'] >\n",
    "    model_df['order_estimated_delivery_date']\n",
    ").astype(int)\n",
    "\n",
    "# 2) Tempos em dias\n",
    "model_df['shipping_time'] = (\n",
    "    model_df['order_delivered_customer_date'] -\n",
    "    model_df['order_approved_at']\n",
    ").dt.days\n",
    "\n",
    "model_df['delivery_time'] = (\n",
    "    model_df['order_delivered_customer_date'] -\n",
    "    model_df['order_purchase_timestamp']\n",
    ").dt.days\n",
    "\n",
    "# 3) Nº de itens e valor total (price)\n",
    "items_agg = (order_items\n",
    "             .groupby('order_id')\n",
    "             .agg(num_items=('order_item_id','count'),\n",
    "                  total_price=('price','sum'))\n",
    "             .reset_index())\n",
    "model_df = model_df.merge(items_agg, on='order_id', how='left')\n",
    "\n",
    "# 4) Valor total pago (payment_value)\n",
    "pay_agg = (order_payments.groupby('order_id')['payment_value']\n",
    "           .sum()\n",
    "           .reset_index(name='total_payment'))\n",
    "model_df = model_df.merge(pay_agg, on='order_id', how='left')\n",
    "\n",
    "# 5) Estado de origem (primeiro vendedor do pedido) e destino (cliente)\n",
    "first_seller = (order_items.sort_values('order_item_id')\n",
    "                .drop_duplicates('order_id')[['order_id','seller_id']])\n",
    "first_seller = first_seller.merge(\n",
    "    sellers[['seller_id','seller_state']],\n",
    "    on='seller_id', how='left'\n",
    ").rename(columns={'seller_state':'orig_state'})\n",
    "\n",
    "model_df = model_df.merge(first_seller[['order_id','orig_state']],\n",
    "                          on='order_id', how='left')\n",
    "\n",
    "model_df = model_df.merge(\n",
    "    customers[['customer_id','customer_state']]\n",
    "      .rename(columns={'customer_state':'dest_state'}),\n",
    "    on='customer_id', how='left'\n",
    ")\n",
    "\n",
    "# Feature binária: estados diferentes?\n",
    "model_df['state_diff'] = (model_df['orig_state'] != model_df['dest_state']).astype(int)\n",
    "\n",
    "# ----------------------------------------------------------\n",
    "# Preparar X e y\n",
    "# ----------------------------------------------------------\n",
    "feature_cols = ['shipping_time',\n",
    "                'delivery_time',\n",
    "                'num_items',\n",
    "                'total_price',\n",
    "                'total_payment',\n",
    "                'state_diff']\n",
    "\n",
    "model_df = model_df.dropna(subset=feature_cols + ['delayed'])  # remover registros incompletos\n",
    "\n",
    "X = model_df[feature_cols]\n",
    "y = model_df['delayed']\n",
    "\n",
    "# ----------------------------------------------------------\n",
    "# Train / Test split\n",
    "# ----------------------------------------------------------\n",
    "X_train, X_test, y_train, y_test = train_test_split(\n",
    "    X, y, test_size=0.3, random_state=42, stratify=y)\n",
    "\n",
    "# ----------------------------------------------------------\n",
    "# Random Forest\n",
    "# ----------------------------------------------------------\n",
    "rf = RandomForestClassifier(\n",
    "    n_estimators=300,\n",
    "    random_state=42,\n",
    "    n_jobs=-1,\n",
    "    class_weight='balanced'  # lida melhor com classe minoritária\n",
    ")\n",
    "rf.fit(X_train, y_train)\n",
    "y_pred = rf.predict(X_test)\n",
    "\n",
    "# ----------------------------------------------------------\n",
    "# Avaliação\n",
    "# ----------------------------------------------------------\n",
    "print(\"Acurácia:\", rf.score(X_test, y_test))\n",
    "print(\"\\nMatriz de Confusão:\")\n",
    "print(confusion_matrix(y_test, y_pred))\n",
    "print(\"\\nRelatório de Classificação:\")\n",
    "print(classification_report(y_test, y_pred, digits=3))\n",
    "\n",
    "importances = (pd.Series(rf.feature_importances_, index=feature_cols)\n",
    "               .sort_values(ascending=False))\n",
    "print(\"\\nImportância das features:\")\n",
    "print(importances)\n"
   ]
  },
  {
   "cell_type": "markdown",
   "id": "4f6218cd-b41b-4a4a-8d03-15d688da0c57",
   "metadata": {},
   "source": [
    "O que significam esses números?\n",
    "Classe 0 (entregas pontuais) – O modelo quase sempre acerta: recall 98 % e precisão 96 %.\n",
    "\n",
    "Classe 1 (atrasos) – Ele captura 60 % dos atrasos (recall), mas gera falsos-positivos suficientes para que a precisão caia p/ ~74 %.\n",
    "\n",
    "Acurácia alta (95 %) era esperada porque entregas pontuais são muito mais numerosas; por isso, avaliamos também recall/precisão da classe minoritária.\n",
    "\n",
    "Benchmark interno: se simplesmente marcássemos todos os pedidos como “pontual”, teríamos ~91 % de acurácia (pois ~9 % estão atrasados). Nosso modelo subiu a acurácia para 95 % e detecta ~60 % dos atrasos – um salto útil na prática."
   ]
  },
  {
   "cell_type": "markdown",
   "id": "e8d7e01f-97a2-418b-90f6-b1395238db53",
   "metadata": {},
   "source": [
    "------------\n",
    "Importância das variáveis:\n",
    "\n",
    "1. delivery_time (36 %) – diferença compra → entrega. Alta importância é natural: atrasos tendem a vir de tempos de percurso longos.\n",
    "2. shipping_time (30 %) – demora do lojista para despachar; quanto mais tarde é postado, maior chance de perder o prazo.\n",
    "3. total_payment / total_price (≈ 10 % cada) – pedidos caros parecem ter perfil logístico diferente (por ex., itens volumosos).\n",
    "4. num_items (9 %) – cestas maiores podem exigir separação/envios múltiplos, aumentando risco.\n",
    "5. state_diff (4 %) – entregas interestaduais carregam risco, porém menor impacto que tempos internos."
   ]
  },
  {
   "cell_type": "code",
   "execution_count": 57,
   "id": "711215cb-7dd6-45ea-b3d8-6911f6aafe8d",
   "metadata": {},
   "outputs": [],
   "source": [
    "# Exemplo rápido de uso em produção\n",
    "prob_delay = rf.predict_proba(X_test)[:,1]   # probabilidade de atraso\n",
    "X_test['predicted_delay_prob'] = prob_delay\n",
    "alertas = X_test[X_test['predicted_delay_prob'] > 0.5]   # threshold ajustável\n"
   ]
  },
  {
   "cell_type": "markdown",
   "id": "927ee18f-c948-45ec-9a9e-171e50a3360a",
   "metadata": {},
   "source": [
    "* Os IDs de pedidos em alertas podem ser enviados ao time de logística para ações proativas.\n",
    "\n",
    "\n"
   ]
  },
  {
   "cell_type": "code",
   "execution_count": 58,
   "id": "cf8d99b9-a358-4832-8f7b-71064bcd170c",
   "metadata": {},
   "outputs": [
    {
     "data": {
      "text/html": [
       "<div>\n",
       "<style scoped>\n",
       "    .dataframe tbody tr th:only-of-type {\n",
       "        vertical-align: middle;\n",
       "    }\n",
       "\n",
       "    .dataframe tbody tr th {\n",
       "        vertical-align: top;\n",
       "    }\n",
       "\n",
       "    .dataframe thead th {\n",
       "        text-align: right;\n",
       "    }\n",
       "</style>\n",
       "<table border=\"1\" class=\"dataframe\">\n",
       "  <thead>\n",
       "    <tr style=\"text-align: right;\">\n",
       "      <th></th>\n",
       "      <th>shipping_time</th>\n",
       "      <th>delivery_time</th>\n",
       "      <th>num_items</th>\n",
       "      <th>total_price</th>\n",
       "      <th>total_payment</th>\n",
       "      <th>state_diff</th>\n",
       "      <th>predicted_delay_prob</th>\n",
       "    </tr>\n",
       "  </thead>\n",
       "  <tbody>\n",
       "    <tr>\n",
       "      <th>69277</th>\n",
       "      <td>34.0</td>\n",
       "      <td>34</td>\n",
       "      <td>247.0</td>\n",
       "      <td>5431.53</td>\n",
       "      <td>37.09</td>\n",
       "      <td>1</td>\n",
       "      <td>0.866667</td>\n",
       "    </tr>\n",
       "    <tr>\n",
       "      <th>2634</th>\n",
       "      <td>18.0</td>\n",
       "      <td>18</td>\n",
       "      <td>61.0</td>\n",
       "      <td>1823.90</td>\n",
       "      <td>43.27</td>\n",
       "      <td>0</td>\n",
       "      <td>0.556667</td>\n",
       "    </tr>\n",
       "    <tr>\n",
       "      <th>83907</th>\n",
       "      <td>71.0</td>\n",
       "      <td>75</td>\n",
       "      <td>187.0</td>\n",
       "      <td>13088.13</td>\n",
       "      <td>81.09</td>\n",
       "      <td>0</td>\n",
       "      <td>1.000000</td>\n",
       "    </tr>\n",
       "    <tr>\n",
       "      <th>41990</th>\n",
       "      <td>36.0</td>\n",
       "      <td>36</td>\n",
       "      <td>237.0</td>\n",
       "      <td>47163.00</td>\n",
       "      <td>262.35</td>\n",
       "      <td>1</td>\n",
       "      <td>0.616667</td>\n",
       "    </tr>\n",
       "    <tr>\n",
       "      <th>17232</th>\n",
       "      <td>23.0</td>\n",
       "      <td>23</td>\n",
       "      <td>44.0</td>\n",
       "      <td>1977.80</td>\n",
       "      <td>52.34</td>\n",
       "      <td>0</td>\n",
       "      <td>0.573333</td>\n",
       "    </tr>\n",
       "    <tr>\n",
       "      <th>...</th>\n",
       "      <td>...</td>\n",
       "      <td>...</td>\n",
       "      <td>...</td>\n",
       "      <td>...</td>\n",
       "      <td>...</td>\n",
       "      <td>...</td>\n",
       "      <td>...</td>\n",
       "    </tr>\n",
       "    <tr>\n",
       "      <th>4442</th>\n",
       "      <td>38.0</td>\n",
       "      <td>38</td>\n",
       "      <td>316.0</td>\n",
       "      <td>31568.40</td>\n",
       "      <td>123.53</td>\n",
       "      <td>1</td>\n",
       "      <td>0.896667</td>\n",
       "    </tr>\n",
       "    <tr>\n",
       "      <th>52046</th>\n",
       "      <td>27.0</td>\n",
       "      <td>28</td>\n",
       "      <td>372.0</td>\n",
       "      <td>26002.80</td>\n",
       "      <td>105.71</td>\n",
       "      <td>1</td>\n",
       "      <td>0.593333</td>\n",
       "    </tr>\n",
       "    <tr>\n",
       "      <th>41079</th>\n",
       "      <td>44.0</td>\n",
       "      <td>44</td>\n",
       "      <td>86.0</td>\n",
       "      <td>11954.00</td>\n",
       "      <td>169.50</td>\n",
       "      <td>1</td>\n",
       "      <td>0.890000</td>\n",
       "    </tr>\n",
       "    <tr>\n",
       "      <th>70212</th>\n",
       "      <td>35.0</td>\n",
       "      <td>36</td>\n",
       "      <td>121.0</td>\n",
       "      <td>60498.79</td>\n",
       "      <td>519.80</td>\n",
       "      <td>0</td>\n",
       "      <td>0.930000</td>\n",
       "    </tr>\n",
       "    <tr>\n",
       "      <th>56284</th>\n",
       "      <td>37.0</td>\n",
       "      <td>37</td>\n",
       "      <td>63.0</td>\n",
       "      <td>10647.00</td>\n",
       "      <td>264.76</td>\n",
       "      <td>1</td>\n",
       "      <td>0.520000</td>\n",
       "    </tr>\n",
       "  </tbody>\n",
       "</table>\n",
       "<p>1891 rows × 7 columns</p>\n",
       "</div>"
      ],
      "text/plain": [
       "       shipping_time  delivery_time  num_items  total_price  total_payment  \\\n",
       "69277           34.0             34      247.0      5431.53          37.09   \n",
       "2634            18.0             18       61.0      1823.90          43.27   \n",
       "83907           71.0             75      187.0     13088.13          81.09   \n",
       "41990           36.0             36      237.0     47163.00         262.35   \n",
       "17232           23.0             23       44.0      1977.80          52.34   \n",
       "...              ...            ...        ...          ...            ...   \n",
       "4442            38.0             38      316.0     31568.40         123.53   \n",
       "52046           27.0             28      372.0     26002.80         105.71   \n",
       "41079           44.0             44       86.0     11954.00         169.50   \n",
       "70212           35.0             36      121.0     60498.79         519.80   \n",
       "56284           37.0             37       63.0     10647.00         264.76   \n",
       "\n",
       "       state_diff  predicted_delay_prob  \n",
       "69277           1              0.866667  \n",
       "2634            0              0.556667  \n",
       "83907           0              1.000000  \n",
       "41990           1              0.616667  \n",
       "17232           0              0.573333  \n",
       "...           ...                   ...  \n",
       "4442            1              0.896667  \n",
       "52046           1              0.593333  \n",
       "41079           1              0.890000  \n",
       "70212           0              0.930000  \n",
       "56284           1              0.520000  \n",
       "\n",
       "[1891 rows x 7 columns]"
      ]
     },
     "execution_count": 58,
     "metadata": {},
     "output_type": "execute_result"
    }
   ],
   "source": [
    "alertas"
   ]
  },
  {
   "cell_type": "markdown",
   "id": "16d5e91d-3f0a-41d8-8da2-71836a110ec7",
   "metadata": {},
   "source": [
    "### Conclusão\n",
    "* O modelo já identifica 6 em cada 10 atrasos antes da entrega, com baixa taxa de falso-alarme (precisão 74 %).\n",
    "* As duas variáveis de prazo interno (delivery_time e shipping_time) explicam cerca de 66 % da decisão – sinal de que acelerar despacho e reduzir percurso é o caminho claro para diminuir atrasos.\n",
    "* Com balanceamento adicional de classes e mais features (distância, categoria, sazonalidade), é realista atingir ~70 % de recall mantendo precisão acima de 70 %. Isso dá à Olist uma ferramenta prática para mitigar impacto no NPS e melhorar a experiência do cliente."
   ]
  },
  {
   "cell_type": "markdown",
   "id": "d9cf2e8b-0676-4dcc-9d46-a781443ead2c",
   "metadata": {},
   "source": [
    "## 3.4 Análise de Satisfação"
   ]
  },
  {
   "cell_type": "code",
   "execution_count": 59,
   "id": "483ed199-e00c-4304-8fe7-8765a1188400",
   "metadata": {},
   "outputs": [
    {
     "name": "stderr",
     "output_type": "stream",
     "text": [
      "/tmp/ipykernel_293250/3172403359.py:14: FutureWarning: \n",
      "\n",
      "Passing `palette` without assigning `hue` is deprecated and will be removed in v0.14.0. Assign the `x` variable to `hue` and set `legend=False` for the same effect.\n",
      "\n",
      "  sns.boxplot(\n"
     ]
    },
    {
     "data": {
      "image/png": "[encoded data removed]",
      "text/plain": [
       "<Figure size 900x600 with 1 Axes>"
      ]
     },
     "metadata": {},
     "output_type": "display_data"
    },
    {
     "name": "stdout",
     "output_type": "stream",
     "text": [
      "\n",
      "Média de avaliação por categoria (ordenado):\n"
     ]
    },
    {
     "data": {
      "text/plain": [
       "category\n",
       "security_and_services                2.500000\n",
       "office_furniture                     3.650202\n",
       "fashion_male_clothing                3.819048\n",
       "audio                                3.838710\n",
       "furniture_mattress_and_upholstery    3.891892\n",
       "home_comfort_2                       3.904762\n",
       "home_confort                         3.905660\n",
       "fashio_female_clothing               3.945946\n",
       "diapers_and_hygiene                  3.960000\n",
       "fixed_telephony                      3.966507\n",
       "Name: review_score, dtype: float64"
      ]
     },
     "metadata": {},
     "output_type": "display_data"
    },
    {
     "data": {
      "text/plain": [
       "category\n",
       "costruction_tools_tools                  4.425532\n",
       "books_technical                          4.429688\n",
       "small_appliances_home_oven_and_coffee    4.430556\n",
       "food_drink                               4.450000\n",
       "books_imported                           4.510204\n",
       "fashion_sport                            4.521739\n",
       "books_general_interest                   4.537988\n",
       "la_cuisine                               4.545455\n",
       "cds_dvds_musicals                        4.666667\n",
       "fashion_childrens_clothes                5.000000\n",
       "Name: review_score, dtype: float64"
      ]
     },
     "metadata": {},
     "output_type": "display_data"
    },
    {
     "data": {
      "image/png": "[encoded data removed]",
      "text/plain": [
       "<Figure size 1400x500 with 2 Axes>"
      ]
     },
     "metadata": {},
     "output_type": "display_data"
    },
    {
     "name": "stdout",
     "output_type": "stream",
     "text": [
      "\n",
      "Correlação entre valor total pago (total_payment) e avaliação: -0.04\n"
     ]
    }
   ],
   "source": [
    "import pandas as pd\n",
    "import matplotlib.pyplot as plt\n",
    "import seaborn as sns\n",
    "\n",
    "# -------------------------------------------------------------\n",
    "# 1) Tempo de entrega (dias) x avaliação\n",
    "# -------------------------------------------------------------\n",
    "orders['delivery_time'] = (\n",
    "    orders['order_delivered_customer_date'] -\n",
    "    orders['order_purchase_timestamp']\n",
    ").dt.days\n",
    "\n",
    "plt.figure(figsize=(9,6))\n",
    "sns.boxplot(\n",
    "    x=pd.cut(orders['delivery_time'], bins=[0,5,10,15,20,60],\n",
    "             labels=['<=5','6-10','11-15','16-20','>20']),\n",
    "    y='review_score',\n",
    "    data=orders,\n",
    "    palette='Set3'\n",
    ")\n",
    "plt.xlabel('Tempo de Entrega (dias)')\n",
    "plt.ylabel('Nota de Avaliação')\n",
    "plt.title('Avaliação vs Tempo de Entrega')\n",
    "plt.show()\n",
    "\n",
    "# -------------------------------------------------------------\n",
    "# 2) Média de avaliação por categoria de produto\n",
    "#    (usa a col. já presente: 'product_category_name_english')\n",
    "# -------------------------------------------------------------\n",
    "# pegar 1 categoria dominante por pedido (primeiro item)\n",
    "cat_per_order = (order_items\n",
    "                 .sort_values('order_item_id')\n",
    "                 .drop_duplicates('order_id')\n",
    "                 [['order_id','product_category_name_english']]\n",
    "                 .rename(columns={'product_category_name_english':'category'}))\n",
    "\n",
    "orders_cat = orders.merge(cat_per_order, on='order_id', how='left')\n",
    "\n",
    "avg_review_by_cat = (orders_cat\n",
    "                     .groupby('category')['review_score']\n",
    "                     .mean()\n",
    "                     .sort_values())\n",
    "\n",
    "print(\"\\nMédia de avaliação por categoria (ordenado):\")\n",
    "display(avg_review_by_cat.head(10))   # piores 10\n",
    "display(avg_review_by_cat.tail(10))   # melhores 10\n",
    "\n",
    "# Plotar top 10 piores e melhores\n",
    "fig, ax = plt.subplots(1,2, figsize=(14,5), sharex=False)\n",
    "sns.barplot(y=avg_review_by_cat.head(10).index,\n",
    "            x=avg_review_by_cat.head(10).values,\n",
    "            hue=avg_review_by_cat.head(10).index,\n",
    "            palette='Reds_r',ax=ax[0])\n",
    "ax[0].set_title('Piores notas médias')\n",
    "ax[0].set_xlabel('Nota média')\n",
    "\n",
    "sns.barplot(y=avg_review_by_cat.tail(10).index,\n",
    "            x=avg_review_by_cat.tail(10).values,\n",
    "            hue=avg_review_by_cat.head(10).index,\n",
    "            palette='Greens',ax=ax[0])\n",
    "ax[1].set_title('Melhores notas médias')\n",
    "ax[1].set_xlabel('Nota média')\n",
    "plt.tight_layout()\n",
    "plt.show()\n",
    "\n",
    "# -------------------------------------------------------------\n",
    "# 3) Correlação entre valor total pago e nota de avaliação\n",
    "#    (ajusta nome da coluna de total_payment, se houver sufixo)\n",
    "# -------------------------------------------------------------\n",
    "if 'total_payment' in orders.columns:\n",
    "    pay_col = 'total_payment'\n",
    "else:\n",
    "    pay_col = [c for c in orders.columns if 'total_payment' in c][0]  # pega total_payment_x ou _y\n",
    "\n",
    "corr = orders[pay_col].corr(orders['review_score'])\n",
    "print(f\"\\nCorrelação entre valor total pago ({pay_col}) e avaliação: {corr:.2f}\")\n"
   ]
  },
  {
   "cell_type": "markdown",
   "id": "684b14e1-1596-4fab-90e4-9d66e25f21e7",
   "metadata": {},
   "source": [
    "* O boxplot mostra claramente queda de nota quando o tempo de entrega supera ~10 dias.\n",
    "* A listagem de médias por categoria revela quais segmentos recebem notas piores e melhores.\n",
    "* A correlação com valor pago tende a ser fraca (próxima de 0), indicando que preço não afeta tanto a avaliação comparado ao tempo de entrega."
   ]
  },
  {
   "cell_type": "markdown",
   "id": "9a5d7448-d613-4408-8222-54330de102a6",
   "metadata": {},
   "source": [
    "#### Etapa 4: Dashboards Interativos\n",
    "\n",
    "* Dashboard Geral de Vendas\n"
   ]
  },
  {
   "cell_type": "code",
   "execution_count": 60,
   "id": "ba0f8ec0-969f-485d-b9a6-2585b47d858f",
   "metadata": {},
   "outputs": [
    {
     "data": {
      "application/vnd.jupyter.widget-view+json": {
       "model_id": "93dceecf4b864359acf19ce7d8487e1a",
       "version_major": 2,
       "version_minor": 0
      },
      "text/plain": [
       "HBox(children=(SelectMultiple(description='Estado:', index=(25,), layout=Layout(max_height='140px'), options=(…"
      ]
     },
     "metadata": {},
     "output_type": "display_data"
    },
    {
     "data": {
      "application/vnd.jupyter.widget-view+json": {
       "model_id": "1b935d776e07447eaaaef1c40b041125",
       "version_major": 2,
       "version_minor": 0
      },
      "text/plain": [
       "Button(description='Gerar gráfico', style=ButtonStyle())"
      ]
     },
     "metadata": {},
     "output_type": "display_data"
    },
    {
     "data": {
      "application/vnd.jupyter.widget-view+json": {
       "model_id": "c78400cb7d754861b3a7f7d73b2ac04d",
       "version_major": 2,
       "version_minor": 0
      },
      "text/plain": [
       "Output()"
      ]
     },
     "metadata": {},
     "output_type": "display_data"
    }
   ],
   "source": [
    "# -------------------- IMPORTS --------------------\n",
    "import pandas as pd, plotly.express as px, ipywidgets as wd\n",
    "from IPython.display import display\n",
    "\n",
    "# -------------------- 1. AGREGAR PAGAMENTOS --------------------\n",
    "pay = order_payments.groupby('order_id', as_index=False)['payment_value'].sum()\n",
    "\n",
    "# -------------------- 2. PEGAR CATEGORIA DOMINANTE POR PEDIDO --------------------\n",
    "cat_per_order = (order_items.sort_values('order_item_id')      # primeiro item de cada pedido\n",
    "                 .drop_duplicates('order_id')[['order_id','product_id']]\n",
    "                 .merge(products[['product_id','product_category_name']], on='product_id', how='left')\n",
    "                 .merge(category_translation, on='product_category_name', how='left')\n",
    "                 [['order_id','product_category_name_english']])\n",
    "\n",
    "# -------------------- 3. JUNTAR COM PEDIDOS + CLIENTES --------------------\n",
    "df = (orders[['order_id','order_purchase_timestamp','customer_id']]\n",
    "      .merge(pay, on='order_id', how='left')\n",
    "      .merge(customers[['customer_id','customer_state']], on='customer_id', how='left')\n",
    "      .merge(cat_per_order, on='order_id', how='left'))\n",
    "\n",
    "df['order_purchase_timestamp'] = pd.to_datetime(df['order_purchase_timestamp'])\n",
    "df['month'] = df['order_purchase_timestamp'].dt.to_period('M').astype(str)\n",
    "\n",
    "# -------------------- 4. CRIAR DATA MART MENSAL (leve!) --------------------\n",
    "sales_monthly = (df.groupby(['month','customer_state','product_category_name_english'], as_index=False)\n",
    "                 .agg(total_sales=('payment_value','sum'),\n",
    "                      num_orders=('order_id','nunique')))\n",
    "\n",
    "# -------------------- 5. WIDGETS --------------------\n",
    "estados = sorted(sales_monthly['customer_state'].dropna().unique())\n",
    "categorias = sorted(sales_monthly['product_category_name_english'].dropna().unique())\n",
    "\n",
    "state_w = wd.SelectMultiple(options=estados, value=('SP',), description='Estado:',\n",
    "                            layout=wd.Layout(max_height='140px'))\n",
    "cat_w   = wd.SelectMultiple(options=categorias, value=('health_beauty',), description='Categoria:',\n",
    "                            layout=wd.Layout(max_height='200px'))\n",
    "btn     = wd.Button(description='Gerar gráfico')\n",
    "out     = wd.Output()\n",
    "\n",
    "def plot_handler(b):\n",
    "    with out:\n",
    "        out.clear_output()\n",
    "        sel = sales_monthly[\n",
    "            sales_monthly['customer_state'].isin(state_w.value) &\n",
    "            sales_monthly['product_category_name_english'].isin(cat_w.value)\n",
    "        ]\n",
    "        if sel.empty:\n",
    "            print(\"Sem dados para esse filtro.\")\n",
    "            return\n",
    "        sel = sel.sort_values('month')\n",
    "        fig = px.line(sel, x='month', y='total_sales', color='product_category_name_english',\n",
    "                      labels={'month':'Mês','total_sales':'Vendas (R$)'},\n",
    "                      title='Evolução Mensal de Vendas')\n",
    "        fig.update_layout(xaxis_tickangle=-45)\n",
    "        fig.show()\n",
    "\n",
    "btn.on_click(plot_handler)\n",
    "\n",
    "display(wd.HBox([state_w, cat_w]), btn, out)\n"
   ]
  },
  {
   "cell_type": "code",
   "execution_count": null,
   "id": "b17051c0-1fb9-4006-ae7c-f39878a21b47",
   "metadata": {},
   "outputs": [],
   "source": []
  },
  {
   "cell_type": "code",
   "execution_count": null,
   "id": "0145b212-6bd5-4b7d-ba30-acb79c924e56",
   "metadata": {},
   "outputs": [],
   "source": []
  },
  {
   "cell_type": "code",
   "execution_count": null,
   "id": "159c532e-7147-4b60-b55e-e342f9cc0b7b",
   "metadata": {},
   "outputs": [],
   "source": []
  }
 ],
 "metadata": {
  "kernelspec": {
   "display_name": "Python 3 (ipykernel)",
   "language": "python",
   "name": "python3"
  },
  "language_info": {
   "codemirror_mode": {
    "name": "ipython",
    "version": 3
   },
   "file_extension": ".py",
   "mimetype": "text/x-python",
   "name": "python",
   "nbconvert_exporter": "python",
   "pygments_lexer": "ipython3",
   "version": "3.9.21"
  }
 },
 "nbformat": 4,
 "nbformat_minor": 5
}
